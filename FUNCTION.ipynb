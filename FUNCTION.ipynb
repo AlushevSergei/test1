{
 "cells": [
  {
   "cell_type": "markdown",
   "id": "ec295e24",
   "metadata": {},
   "source": [
    "# ФУНКЦИИ"
   ]
  },
  {
   "cell_type": "code",
   "execution_count": 7,
   "id": "0e8a973e",
   "metadata": {},
   "outputs": [
    {
     "name": "stdout",
     "output_type": "stream",
     "text": [
      "25\n",
      "Help on function square in module __main__:\n",
      "\n",
      "square(number)\n",
      "    \"\n",
      "    Thise is function a square of a number\n",
      "\n"
     ]
    }
   ],
   "source": [
    "def square (number):\n",
    "    \"\"\"\"\n",
    "    Thise is function a square of a number \n",
    "    \"\"\"\n",
    "    # Создание справки в коде\n",
    "    result = number**2\n",
    "    return result\n",
    "print (square(5))\n",
    "help (square) # вызываем справку по функции \"square\""
   ]
  },
  {
   "cell_type": "code",
   "execution_count": 3,
   "id": "8a4a5a13",
   "metadata": {},
   "outputs": [
    {
     "name": "stdout",
     "output_type": "stream",
     "text": [
      "25\n"
     ]
    }
   ],
   "source": [
    "my_result = square(5)\n",
    "print (my_result)"
   ]
  },
  {
   "cell_type": "code",
   "execution_count": 8,
   "id": "e51a1403",
   "metadata": {},
   "outputs": [
    {
     "name": "stdout",
     "output_type": "stream",
     "text": [
      "Help on method raw_input in module ipykernel.kernelbase:\n",
      "\n",
      "raw_input(prompt='') method of ipykernel.ipkernel.IPythonKernel instance\n",
      "    Forward raw_input to frontends\n",
      "    \n",
      "    Raises\n",
      "    ------\n",
      "    StdinNotImplementedError if active frontend doesn't support stdin.\n",
      "\n"
     ]
    }
   ],
   "source": []
  },
  {
   "cell_type": "markdown",
   "id": "9e2c6609",
   "metadata": {},
   "source": [
    "#### Пример когда функция  не принимает никакого  значения, его вносит пользователь"
   ]
  },
  {
   "cell_type": "code",
   "execution_count": 11,
   "id": "63867c18",
   "metadata": {},
   "outputs": [
    {
     "name": "stdout",
     "output_type": "stream",
     "text": [
      "Введите число:36\n",
      "1296\n"
     ]
    }
   ],
   "source": [
    "def square_2 ():\n",
    "    number_input = int(input ('Введите число:'))\n",
    "    result = number_input**2\n",
    "    return result\n",
    "print (square_2())\n"
   ]
  },
  {
   "cell_type": "markdown",
   "id": "cd104e32",
   "metadata": {},
   "source": [
    "#### Exampl Когда в функции несколько аргументов"
   ]
  },
  {
   "cell_type": "code",
   "execution_count": 12,
   "id": "c4b54a1d",
   "metadata": {},
   "outputs": [
    {
     "name": "stdout",
     "output_type": "stream",
     "text": [
      "27\n"
     ]
    }
   ],
   "source": [
    "def degre (number_1, number_2):\n",
    "    return number_1 ** number_2\n",
    "print (degre (3, 3))\n"
   ]
  },
  {
   "cell_type": "code",
   "execution_count": 13,
   "id": "203130a7",
   "metadata": {},
   "outputs": [
    {
     "name": "stdout",
     "output_type": "stream",
     "text": [
      "9\n"
     ]
    }
   ],
   "source": [
    "def degre (number_1, number_2=2):# Второй аргумент задали постоянным\n",
    "    return number_1 ** number_2\n",
    "print (degre (3)) # Если мы поставим второй аргумент к примеру print(degre (3, 4)), то система выберет его как приоритет"
   ]
  },
  {
   "cell_type": "markdown",
   "id": "b3d74a7a",
   "metadata": {},
   "source": [
    "####  Область видения в глобальном контексте и локальном"
   ]
  },
  {
   "cell_type": "code",
   "execution_count": 2,
   "id": "e7167c35",
   "metadata": {},
   "outputs": [
    {
     "name": "stdout",
     "output_type": "stream",
     "text": [
      "25\n",
      "81\n"
     ]
    }
   ],
   "source": [
    "number = 3\n",
    "power = 4\n",
    "\n",
    "def square_2 ():\n",
    "    number = 5\n",
    "    power = 2\n",
    "    return number ** power\n",
    "print (square_2())\n",
    "print (number ** power)"
   ]
  },
  {
   "cell_type": "code",
   "execution_count": 20,
   "id": "cd6020f5",
   "metadata": {},
   "outputs": [
    {
     "name": "stdout",
     "output_type": "stream",
     "text": [
      "625\n",
      "81\n"
     ]
    }
   ],
   "source": [
    "number = 3\n",
    "power = 4\n",
    "\n",
    "def square_2 ():\n",
    "    number = 5\n",
    "   # power = 2\n",
    "    return number ** power\n",
    "print (square_2())\n",
    "print (number ** power)"
   ]
  },
  {
   "cell_type": "markdown",
   "id": "c2b05d1a",
   "metadata": {},
   "source": [
    "### Анонимные функции"
   ]
  },
  {
   "cell_type": "code",
   "execution_count": 21,
   "id": "a5b1bf90",
   "metadata": {},
   "outputs": [
    {
     "name": "stdout",
     "output_type": "stream",
     "text": [
      "12\n"
     ]
    }
   ],
   "source": [
    "my_fun = lambda x,y: x*y\n",
    "print (my_fun (3, 4))"
   ]
  },
  {
   "cell_type": "markdown",
   "id": "712b2c6f",
   "metadata": {},
   "source": [
    "#### Task1: Предоставлен список с данными студентов. Нобходимо посчитать средний бал за домашние работы по всей группе"
   ]
  },
  {
   "cell_type": "code",
   "execution_count": 37,
   "id": "c4c26ef0",
   "metadata": {},
   "outputs": [
    {
     "name": "stdout",
     "output_type": "stream",
     "text": [
      "Средняя оценка по группе за ДЗ 8.24\n",
      "Средняя оценка по группе за экзамен 9.4\n"
     ]
    }
   ],
   "source": [
    "students_list = [\n",
    " {'name':'Василий', 'surname':' Теркин', 'sex': 'мужчина', 'program_exp': True, 'grade': [8, 8, 9, 10, 9], 'exam': [9]}, \n",
    " {'name':'Мария', 'surname':' Павлова', 'sex': 'женщина', 'program_exp': True, 'grade': [7, 8, 9, 7, 9], 'exam': [10]}, \n",
    " {'name':'Ирина', 'surname':' Андреева', 'sex': 'женщина', 'program_exp': True, 'grade': [7, 8, 8, 9, 8], 'exam': [8]}, \n",
    " {'name':'Татьяна', 'surname':' Сидорова', 'sex': 'женщина', 'program_exp': False, 'grade': [9, 8, 9, 6, 9], 'exam': [10]}, \n",
    " {'name':'Роман', 'surname':' Золоторев', 'sex': 'мужчина', 'program_exp': False, 'grade': [8, 9, 9, 6, 9], 'exam': [10]}      \n",
    " ]\n",
    "def get_average_grades(students):\n",
    "    sum_average_hw = 0\n",
    "    sum_average_ex = 0\n",
    "    for student in students:\n",
    "        sum_average_hw +=sum(student['grade'])/ len(student['grade'])\n",
    "        sum_average_ex += sum (student['exam'])     \n",
    "    print ('Средняя оценка по группе за ДЗ', round (sum_average_hw/len(students), 2))\n",
    "    print ('Средняя оценка по группе за экзамен', round (sum_average_ex/len(students), 2))\n",
    "    \n",
    "get_average_grades(students_list) # Эта строка вызывает функцию get_average_grades, где в качестве параметра используем словарь (список) students_list "
   ]
  },
  {
   "cell_type": "markdown",
   "id": "b4445f0d",
   "metadata": {},
   "source": [
    "#### Task: Получить средний бал студентов с опытом и без опыта"
   ]
  },
  {
   "cell_type": "code",
   "execution_count": null,
   "id": "13424722",
   "metadata": {},
   "outputs": [],
   "source": [
    "students_list = [\n",
    " {'name':'Василий', 'surname':' Теркин', 'sex': 'мужчина', 'program_exp': True, 'grade': [8, 8, 9, 10, 9], 'exam': [9]}, \n",
    " {'name':'Мария', 'surname':' Павлова', 'sex': 'женщина', 'program_exp': True, 'grade': [7, 8, 9, 7, 9], 'exam': [10]}, \n",
    " {'name':'Ирина', 'surname':' Андреева', 'sex': 'женщина', 'program_exp': True, 'grade': [7, 8, 8, 9, 8], 'exam': [8]}, \n",
    " {'name':'Татьяна', 'surname':' Сидорова', 'sex': 'женщина', 'program_exp': False, 'grade': [9, 8, 9, 6, 9], 'exam': [10]}, \n",
    " {'name':'Роман', 'surname':' Золоторев', 'sex': 'мужчина', 'program_exp': False, 'grade': [8, 9, 9, 6, 9], 'exam': [10]}      \n",
    " ]\n",
    "def get_average_grades(students):\n",
    "    sum_average_hw = 0\n",
    "    sum_average_ex = 0\n",
    "    for student in students:\n",
    "        sum_average_hw +=sum(student['grade'])/ len(student['grade'])\n",
    "        sum_average_ex += sum (student['exam'])     \n",
    "    print ('Средняя оценка по группе за ДЗ', round (sum_average_hw/len(students), 2))\n",
    "    print ('Средняя оценка по группе за экзамен', round (sum_average_ex/len(students), 2))\n",
    "    \n",
    "get_average_grades(students_list) # Эта строка вызывает функцию get_average_grades, где в качестве\n",
    "                                  # параметра используем словарь (список) students_list\n",
    "\n",
    "def get_average_grades_by_exp(students, exp = True):\n",
    "    sum_average_hw = 0\n",
    "    sum_average_ex = 0\n",
    "    student_counter = 0\n",
    "    for student in students:\n",
    "        if student ['program_exp'] == exp:\n",
    "            sum_average_hw +=sum(student['grade'])/ len(student['grade'])\n",
    "            sum_average_ex += sum (student['exam'])\n",
    "            student_counter += 1\n",
    "    if exp == True:\n",
    "        print('Средняя оценка по группе студенов с опытом за ДЗ', round (sum_average_hw/student_counter, 2))\n",
    "        print('Средняя оценка по группе студенов с опытом по экзамену', round (sum_average_ex/student_counter, 2))\n",
    "    else:\n",
    "        print('Средняя оценка по группе студенов без  опыта за ДЗ', round (sum_average_hw/student_counter, 2))\n",
    "        print('Средняя оценка по группе студенов  без опыта по экзамену', round (sum_average_ex/student_counter, 2))\n",
    "get_average_grades_by_exp (students_list) # Эта строка вызывает функцию get_average_grades_by_exp, где в качестве\n",
    "                                          # параметра используем словарь (список) students_list  \n",
    "get_average_grades_by_exp (students_list, exp = False)\n",
    "    "
   ]
  },
  {
   "cell_type": "code",
   "execution_count": null,
   "id": "39f27954",
   "metadata": {},
   "outputs": [],
   "source": []
  },
  {
   "cell_type": "code",
   "execution_count": 1,
   "id": "7edeb526",
   "metadata": {},
   "outputs": [
    {
     "name": "stdout",
     "output_type": "stream",
     "text": [
      "Средняя оценка по группе за ДЗ 8.24\n",
      "Средняя оценка по группе за экзамен 9.4\n",
      "Средняя оценка по группе студенов с опытом за ДЗ 8.27\n",
      "Средняя оценка по группе студенов с опытом по экзамену 9.0\n",
      "Средняя оценка по группе студенов без  опыта за ДЗ 8.2\n",
      "Средняя оценка по группе студенов  без опыта по экзамену 10.0\n",
      "Введите команду: 1\n",
      "Средняя оценка по группе за ДЗ 8.24\n",
      "Средняя оценка по группе за экзамен 9.4\n",
      "Введите команду: 2\n",
      "Средняя оценка по группе студенов с опытом за ДЗ 8.27\n",
      "Средняя оценка по группе студенов с опытом по экзамену 9.0\n",
      "Введите команду: 3\n",
      "Средняя оценка по группе студенов без  опыта за ДЗ 8.2\n",
      "Средняя оценка по группе студенов  без опыта по экзамену 10.0\n",
      "Введите команду: r\n",
      "Введите команду: q\n",
      "До свидания!\n"
     ]
    }
   ],
   "source": [
    "students_list = [\n",
    " {'name':'Василий', 'surname':' Теркин', 'sex': 'мужчина', 'program_exp': True, 'grade': [8, 8, 9, 10, 9], 'exam': [9]}, \n",
    " {'name':'Мария', 'surname':' Павлова', 'sex': 'женщина', 'program_exp': True, 'grade': [7, 8, 9, 7, 9], 'exam': [10]}, \n",
    " {'name':'Ирина', 'surname':' Андреева', 'sex': 'женщина', 'program_exp': True, 'grade': [7, 8, 8, 9, 8], 'exam': [8]}, \n",
    " {'name':'Татьяна', 'surname':' Сидорова', 'sex': 'женщина', 'program_exp': False, 'grade': [9, 8, 9, 6, 9], 'exam': [10]}, \n",
    " {'name':'Роман', 'surname':' Золоторев', 'sex': 'мужчина', 'program_exp': False, 'grade': [8, 9, 9, 6, 9], 'exam': [10]}      \n",
    " ]\n",
    "def get_average_grades(students):\n",
    "    sum_average_hw = 0\n",
    "    sum_average_ex = 0\n",
    "    for student in students:\n",
    "        sum_average_hw +=sum(student['grade'])/ len(student['grade'])\n",
    "        sum_average_ex += sum (student['exam'])     \n",
    "    print ('Средняя оценка по группе за ДЗ', round (sum_average_hw/len(students), 2))\n",
    "    print ('Средняя оценка по группе за экзамен', round (sum_average_ex/len(students), 2))\n",
    "    \n",
    "get_average_grades(students_list) # Эта строка вызывает функцию get_average_grades, где в качестве\n",
    "                                  # параметра используем словарь (список) students_list\n",
    "\n",
    "def get_average_grades_by_exp(students, exp = True):\n",
    "    sum_average_hw = 0\n",
    "    sum_average_ex = 0\n",
    "    student_counter = 0\n",
    "    for student in students:\n",
    "        if student ['program_exp'] == exp:\n",
    "            sum_average_hw +=sum(student['grade'])/ len(student['grade'])\n",
    "            sum_average_ex += sum (student['exam'])\n",
    "            student_counter += 1\n",
    "    if exp == True:\n",
    "        print('Средняя оценка по группе студенов с опытом за ДЗ', round (sum_average_hw/student_counter, 2))\n",
    "        print('Средняя оценка по группе студенов с опытом по экзамену', round (sum_average_ex/student_counter, 2))\n",
    "    else:\n",
    "        print('Средняя оценка по группе студенов без  опыта за ДЗ', round (sum_average_hw/student_counter, 2))\n",
    "        print('Средняя оценка по группе студенов  без опыта по экзамену', round (sum_average_ex/student_counter, 2))\n",
    "get_average_grades_by_exp (students_list) # Эта строка вызывает функцию get_average_grades_by_exp, где в качестве\n",
    "                                          # параметра используем словарь (список) students_list  \n",
    "get_average_grades_by_exp (students_list, exp = False)\n",
    "    \n",
    "def main():\n",
    "    while True:\n",
    "        user_input = input('Введите команду: ')\n",
    "        if user_input == '1':\n",
    "            get_average_grades(students_list)\n",
    "        elif user_input == '2':\n",
    "            get_average_grades_by_exp (students_list)                       \n",
    "        elif user_input == '3':\n",
    "            get_average_grades_by_exp (students_list, exp = False)\n",
    "        elif user_input == 'q':\n",
    "            print ('До свидания!') \n",
    "            break\n",
    "main()\n"
   ]
  },
  {
   "cell_type": "code",
   "execution_count": null,
   "id": "69c0e70c",
   "metadata": {},
   "outputs": [],
   "source": []
  }
 ],
 "metadata": {
  "kernelspec": {
   "display_name": "Python 3 (ipykernel)",
   "language": "python",
   "name": "python3"
  },
  "language_info": {
   "codemirror_mode": {
    "name": "ipython",
    "version": 3
   },
   "file_extension": ".py",
   "mimetype": "text/x-python",
   "name": "python",
   "nbconvert_exporter": "python",
   "pygments_lexer": "ipython3",
   "version": "3.9.13"
  }
 },
 "nbformat": 4,
 "nbformat_minor": 5
}
