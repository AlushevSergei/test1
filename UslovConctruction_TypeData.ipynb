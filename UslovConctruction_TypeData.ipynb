{
 "cells": [
  {
   "cell_type": "markdown",
   "id": "c5788744",
   "metadata": {},
   "source": [
    "# Условия"
   ]
  },
  {
   "cell_type": "code",
   "execution_count": 5,
   "id": "3ac44e0c",
   "metadata": {},
   "outputs": [
    {
     "name": "stdout",
     "output_type": "stream",
     "text": [
      "Введите возраст:17\n",
      "Вы слишком молоды!\n",
      "Конец программы!\n"
     ]
    }
   ],
   "source": [
    "age = int(input('Введите возраст:'))\n",
    "if age >= 18:\n",
    "    height = int(input('Введите рост:'))\n",
    "    if height < 170:\n",
    "        print('Этого к нам, в танкисты')\n",
    "    elif height < 200:\n",
    "        print ('\"Этого в десантники\"')   \n",
    "    else:\n",
    "        print('Этот нам не подходит')\n",
    "else:\n",
    "    print ('Вы слишком молоды!')\n",
    "\n",
    "print('Конец программы!')"
   ]
  },
  {
   "cell_type": "code",
   "execution_count": 3,
   "id": "c5cd0924",
   "metadata": {},
   "outputs": [
    {
     "data": {
      "text/plain": [
       "False"
      ]
     },
     "execution_count": 3,
     "metadata": {},
     "output_type": "execute_result"
    }
   ],
   "source": [
    "bool(\"\")"
   ]
  },
  {
   "cell_type": "code",
   "execution_count": 8,
   "id": "0056b0c2",
   "metadata": {},
   "outputs": [
    {
     "name": "stdout",
     "output_type": "stream",
     "text": [
      "Введите имя\n",
      "Привет Мир!\n"
     ]
    }
   ],
   "source": [
    "name = input('Введите имя')\n",
    "if name:\n",
    "    print('Привет \"%s\"' % name)\n",
    "else:\n",
    "    print('Привет Мир!')"
   ]
  },
  {
   "cell_type": "code",
   "execution_count": 16,
   "id": "0e36492b",
   "metadata": {},
   "outputs": [
    {
     "data": {
      "text/plain": [
       "True"
      ]
     },
     "execution_count": 16,
     "metadata": {},
     "output_type": "execute_result"
    }
   ],
   "source": [
    " not False"
   ]
  },
  {
   "cell_type": "code",
   "execution_count": 1,
   "id": "93b47e28",
   "metadata": {},
   "outputs": [
    {
     "data": {
      "text/plain": [
       "0.25"
      ]
     },
     "execution_count": 1,
     "metadata": {},
     "output_type": "execute_result"
    }
   ],
   "source": [
    "1/4"
   ]
  },
  {
   "cell_type": "code",
   "execution_count": null,
   "id": "2db07e20",
   "metadata": {},
   "outputs": [],
   "source": [
    "age = int(input('Введите возраст:'))"
   ]
  },
  {
   "cell_type": "code",
   "execution_count": null,
   "id": "1f333e3c",
   "metadata": {},
   "outputs": [],
   "source": [
    "1/5\n"
   ]
  },
  {
   "cell_type": "markdown",
   "id": "6e6eb9ca",
   "metadata": {},
   "source": [
    "### **Task (Задача)**"
   ]
  },
  {
   "cell_type": "code",
   "execution_count": 3,
   "id": "2a901776",
   "metadata": {},
   "outputs": [
    {
     "name": "stdout",
     "output_type": "stream",
     "text": [
      "Введите месяц рождения:Февраль\n",
      "\n",
      "Конец программы!\n"
     ]
    }
   ],
   "source": [
    "month = input('Введите месяц рождения:')\n",
    "\n",
    "if month =='январь':\n",
    "    data = int(input('Введите число:'))\n",
    "    if data <= 23:\n",
    "        print('Вы Козерог')\n",
    "    elif data > 31:\n",
    "        print('Вы не правильно ввели число')\n",
    "    else:\n",
    "        print('Вы Водолей')\n",
    "if month =='февраль':\n",
    "    data = int(input('Введите число:'))\n",
    "    if data <= 23:\n",
    "        print('Вы Водолей') \n",
    "    else:\n",
    "        print('Вы рыбы')\n",
    "if month =='март':\n",
    "    data = int(input('Введите число:'))\n",
    "    if data <= 23:\n",
    "        print('Вы Рыбы') \n",
    "    else:\n",
    "        print('Вы Овен')\n",
    "if month =='апрель':\n",
    "    data = int(input('Введите число:'))\n",
    "    if data <= 23:\n",
    "        print('Вы Овен') \n",
    "    else:\n",
    "        print('Вы Телец')\n",
    "if month =='май':\n",
    "    data = int(input('Введите число:'))\n",
    "    if data <= 23:\n",
    "        print('Вы Телец') \n",
    "    else:\n",
    "        print('Вы Близнецы')\n",
    "if month =='июнь':\n",
    "    data = int(input('Введите число:'))\n",
    "    if data <= 23:\n",
    "        print('Вы Близнецы') \n",
    "    else:\n",
    "        print('Вы Рак')\n",
    "if month =='Июль':\n",
    "    data = int(input('Введите число:'))\n",
    "    if data <= 23:\n",
    "        print('Вы Рак') \n",
    "    else:\n",
    "        print('Вы Лев')\n",
    "if month =='август':\n",
    "    data = int(input('Введите число:'))\n",
    "    if data <= 23:\n",
    "        print('Вы Лев') \n",
    "    else:\n",
    "        print('Вы Дева')       \n",
    "if month =='сентябрь':\n",
    "    data = int(input('Введите число:'))\n",
    "    if data <= 23:\n",
    "        print('Вы Дева') \n",
    "    else:\n",
    "        print('Вы Весы')        \n",
    "if month =='октябрь':\n",
    "    data = int(input('Введите число:'))\n",
    "    if data <= 23:\n",
    "        print('Вы Весы') \n",
    "    else:\n",
    "        print('Вы Скорпион')       \n",
    "if month =='ноябрь':\n",
    "    data = int(input('Введите число:'))\n",
    "    if data <= 23:\n",
    "        print('Вы Скорпион') \n",
    "    else:\n",
    "        print('Вы Стрелец')        \n",
    "if month =='декабрь':\n",
    "    data = int(input('Введите число:'))\n",
    "    if data <= 22:\n",
    "        print('Вы Стрелец') \n",
    "    else:\n",
    "        print('Вы Козерог')\n",
    "\n",
    "else:\n",
    "    print ('')\n",
    "\n",
    "print('Конец программы!')"
   ]
  },
  {
   "cell_type": "markdown",
   "id": "c76e443e",
   "metadata": {},
   "source": [
    "# Списки"
   ]
  },
  {
   "cell_type": "markdown",
   "id": "40c49bab",
   "metadata": {},
   "source": [
    "### Example (Пример)"
   ]
  },
  {
   "cell_type": "code",
   "execution_count": 7,
   "id": "3538f6c6",
   "metadata": {},
   "outputs": [],
   "source": [
    "month_list = ['Jan', 'Feb', 'Mar', 'Apr']\n",
    "incom_list = [13000, 10000, 8000, 5000]\n",
    "incom_by_month = [['Jan', 13000], ['Feb', 10000], ['Mar', 8000], ['Apr', 5000]]\n"
   ]
  },
  {
   "cell_type": "code",
   "execution_count": 4,
   "id": "69dfd21a",
   "metadata": {},
   "outputs": [
    {
     "name": "stdout",
     "output_type": "stream",
     "text": [
      "<class 'list'>\n",
      "<class 'list'>\n",
      "<class 'list'>\n"
     ]
    }
   ],
   "source": [
    "print(type(month_list))\n",
    "print(type(incom_list))\n",
    "print(type(incom_by_month))"
   ]
  },
  {
   "cell_type": "code",
   "execution_count": null,
   "id": "6a97ac28",
   "metadata": {},
   "outputs": [],
   "source": []
  },
  {
   "cell_type": "code",
   "execution_count": 8,
   "id": "dc2ee382",
   "metadata": {},
   "outputs": [
    {
     "name": "stdout",
     "output_type": "stream",
     "text": [
      "Jan\n",
      "Apr\n",
      "[['Jan', 13000], ['Feb', 10000]]\n",
      "[]\n",
      "[['Mar', 8000], ['Apr', 5000]]\n"
     ]
    }
   ],
   "source": [
    "print (month_list[0])\n",
    "print (month_list[-1])\n",
    "\n",
    "print (incom_by_month[0:2])\n",
    "print (incom_by_month[-8:-6])\n",
    "print (incom_by_month[2:])\n",
    "#print (incom_by_month[])\n"
   ]
  },
  {
   "cell_type": "markdown",
   "id": "feb87897",
   "metadata": {},
   "source": [
    "## Изменеие элементов списка"
   ]
  },
  {
   "cell_type": "code",
   "execution_count": 9,
   "id": "543a4995",
   "metadata": {},
   "outputs": [
    {
     "name": "stdout",
     "output_type": "stream",
     "text": [
      "[['Jan', 5000000], ['Feb', 10000], ['Mar', 8000], ['Apr', 5000]]\n"
     ]
    }
   ],
   "source": [
    "incom_by_month [0][1] = 5000000\n",
    "print (incom_by_month)"
   ]
  },
  {
   "cell_type": "markdown",
   "id": "970ae884",
   "metadata": {},
   "source": [
    "## Конкатинация (слияние) списков"
   ]
  },
  {
   "cell_type": "code",
   "execution_count": 10,
   "id": "9079b61b",
   "metadata": {},
   "outputs": [
    {
     "name": "stdout",
     "output_type": "stream",
     "text": [
      "[['Jan', 13000], ['Feb', 10000], ['Mar', 8000], ['Apr', 5000], ['Jan', 13000], ['Feb', 10000], ['Mar', 8000], ['Apr', 5000]]\n"
     ]
    }
   ],
   "source": [
    "incom_by_month = [['Jan', 13000], ['Feb', 10000], ['Mar', 8000], ['Apr', 5000]]\n",
    "incom_by_month1 = [['May', 13000], ['Jun', 10000], ['Jul', 8000], ['Avg', 5000]]\n",
    "\n",
    "print(incom_by_month +incom_by_month)"
   ]
  },
  {
   "cell_type": "markdown",
   "id": "0696c5fa",
   "metadata": {},
   "source": [
    "## Операции со списками"
   ]
  },
  {
   "cell_type": "code",
   "execution_count": 11,
   "id": "d4d649d1",
   "metadata": {},
   "outputs": [
    {
     "name": "stdout",
     "output_type": "stream",
     "text": [
      "[['Jan', 13000], ['Feb', 10000], ['Mar', 8000]]\n"
     ]
    }
   ],
   "source": [
    "del(incom_by_month[-1])\n",
    "print(incom_by_month)"
   ]
  },
  {
   "cell_type": "code",
   "execution_count": 25,
   "id": "43ad3137",
   "metadata": {},
   "outputs": [
    {
     "name": "stdout",
     "output_type": "stream",
     "text": [
      "['Jan', 'Mar', 'Apr']\n"
     ]
    }
   ],
   "source": [
    "month_list = ['Jan', 'Feb', 'Mar', 'Apr']\n",
    "month_list.remove('Feb')\n",
    "\n",
    "print(month_list)"
   ]
  },
  {
   "cell_type": "code",
   "execution_count": 26,
   "id": "a991ca69",
   "metadata": {},
   "outputs": [
    {
     "name": "stdout",
     "output_type": "stream",
     "text": [
      "['Jan', 'Mar', 'Apr', 'Feb']\n"
     ]
    }
   ],
   "source": [
    "# Вернем 'Feb'\n",
    "month_list.append ('Feb')\n",
    "print(month_list)"
   ]
  },
  {
   "cell_type": "code",
   "execution_count": 30,
   "id": "ae2a929b",
   "metadata": {},
   "outputs": [
    {
     "name": "stdout",
     "output_type": "stream",
     "text": [
      "['Jan', 'Feb', 'Mar', 'Apr']\n"
     ]
    }
   ],
   "source": [
    "#Изменение элемента списка\n",
    "month_list[1] = ('Feb')\n",
    "month_list[2] = ('Mar')\n",
    "month_list[3] = ('Apr')\n",
    "print (month_list)"
   ]
  },
  {
   "cell_type": "code",
   "execution_count": 34,
   "id": "49799c8f",
   "metadata": {},
   "outputs": [
    {
     "data": {
      "text/plain": [
       "3"
      ]
     },
     "execution_count": 34,
     "metadata": {},
     "output_type": "execute_result"
    }
   ],
   "source": [
    "# Количество элемента в списке\n",
    "incom_list1 = [13000, 10000, 15000, 8000, 5000, 8000, 30000, 4000, 8000]\n",
    "incom_list1.count (8000)"
   ]
  },
  {
   "cell_type": "code",
   "execution_count": 36,
   "id": "621631f3",
   "metadata": {},
   "outputs": [
    {
     "data": {
      "text/plain": [
       "2"
      ]
     },
     "execution_count": 36,
     "metadata": {},
     "output_type": "execute_result"
    }
   ],
   "source": [
    "# Индекс очередности в списке\n",
    "incom_list1 = [13000, 10000, 8000, 5000, 8000, 30000, 4000, 8000]\n",
    "incom_list1.index (8000)"
   ]
  },
  {
   "cell_type": "code",
   "execution_count": 41,
   "id": "df1a4d25",
   "metadata": {},
   "outputs": [
    {
     "name": "stdout",
     "output_type": "stream",
     "text": [
      "[8000, 4000, 30000, 8000, 5000, 8000, 10000, 13000]\n"
     ]
    }
   ],
   "source": [
    "# Разворачиваем список\n",
    "incom_list1 = [13000, 10000, 8000, 5000, 8000, 30000, 4000, 8000]\n",
    "incom_list1.reverse()\n",
    "print(incom_list1)"
   ]
  },
  {
   "cell_type": "code",
   "execution_count": 46,
   "id": "38e51f4a",
   "metadata": {},
   "outputs": [
    {
     "name": "stdout",
     "output_type": "stream",
     "text": [
      "Привет люб\n"
     ]
    }
   ],
   "source": [
    "string1 = 'Привет любимая страна'\n",
    "\n",
    "print(string1[0:10])"
   ]
  },
  {
   "cell_type": "markdown",
   "id": "883bba79",
   "metadata": {},
   "source": [
    "# ЦИКЛЫ: while и for"
   ]
  },
  {
   "cell_type": "code",
   "execution_count": 49,
   "id": "3548524a",
   "metadata": {},
   "outputs": [
    {
     "name": "stdout",
     "output_type": "stream",
     "text": [
      "7  -Нечетное число\n",
      "6  -Четное число\n",
      "5  -Нечетное число\n",
      "4  -Четное число\n",
      "3  -Нечетное число\n",
      "2  -Четное число\n",
      "1  -Нечетное число\n"
     ]
    }
   ],
   "source": [
    "x = 7\n",
    "while x != 0:\n",
    "    if x %2 == 0:\n",
    "        print (x, ' -Четное число')\n",
    "        x -=1\n",
    "    else:\n",
    "        print (x, ' -Нечетное число')\n",
    "        x -=1 \n",
    "    "
   ]
  },
  {
   "cell_type": "markdown",
   "id": "4dde556d",
   "metadata": {},
   "source": [
    "# Цикл FOR"
   ]
  },
  {
   "cell_type": "code",
   "execution_count": 55,
   "id": "082672c5",
   "metadata": {},
   "outputs": [
    {
     "name": "stdout",
     "output_type": "stream",
     "text": [
      "M\n",
      "I\n",
      "C\n",
      "R\n",
      "O\n",
      "S\n",
      "O\n",
      "F\n",
      "T\n"
     ]
    }
   ],
   "source": [
    "company = 'Microsoft'\n",
    "\n",
    "for letter in company:\n",
    "    letter = letter.capitalize()\n",
    "    \n",
    "    print(letter)"
   ]
  },
  {
   "cell_type": "code",
   "execution_count": 60,
   "id": "3d91403c",
   "metadata": {},
   "outputs": [
    {
     "name": "stdout",
     "output_type": "stream",
     "text": [
      "Apple is capitalisation 2.6\n",
      "Facebook is capitalisation 1.8\n",
      "Microsoft is capitalisation 3.2\n",
      "Vkontact is capitalisation 7.8\n"
     ]
    }
   ],
   "source": [
    "companies_capitals = [\n",
    "    ['Apple', 2.6],\n",
    "    ['Facebook', 1.8],\n",
    "    ['Microsoft', 3.2],\n",
    "    ['Vkontact', 7.8]\n",
    "]\n",
    "for company in companies_capitals:\n",
    "    print (company[0], 'is capitalisation', company[1])"
   ]
  },
  {
   "cell_type": "raw",
   "id": "90b50e18",
   "metadata": {},
   "source": [
    "#### Exampl\n",
    "Необходимо найти среднюю температуру по стране из предоставленного списка. Перевести F в C"
   ]
  },
  {
   "cell_type": "code",
   "execution_count": 31,
   "id": "ce7e8995",
   "metadata": {},
   "outputs": [],
   "source": [
    "countres_temperature = [\n",
    "    ['Tailand', [75.6, 70.0, 73.5, 71.4, 66.5]],\n",
    "    ['England', [65.6, 60.0, 63.5, 61.4, 56.5]],\n",
    "    ['Russia', [55.6, 50.0, 53.5, 51.4, 46.5]]\n",
    "]\n"
   ]
  },
  {
   "cell_type": "code",
   "execution_count": 29,
   "id": "38130fef",
   "metadata": {},
   "outputs": [
    {
     "name": "stdout",
     "output_type": "stream",
     "text": [
      "21.89\n",
      "16.33\n",
      "10.78\n"
     ]
    }
   ],
   "source": [
    "for country in countres_temperature:\n",
    "    average_temp = 0\n",
    "    # average_temp = 0, делаем специально =0 чтобы переходя на другую строку формула начиналась с со значения 0, \n",
    "    # а не с значения суммы температур предыдущей строки или строк\n",
    "     \n",
    "    for temperature in country [1]:\n",
    "        average_temp += (temperature -32)*5/9\n",
    "    \n",
    "    print (round(average_temp/len(country[1]), 2))\n",
    "    #(round(......, 2)) количество знаков после запятой"
   ]
  },
  {
   "cell_type": "markdown",
   "id": "853642ce",
   "metadata": {},
   "source": [
    "# СЛОВАРИ"
   ]
  },
  {
   "cell_type": "markdown",
   "id": "a5c7a865",
   "metadata": {},
   "source": [
    "#### Exampl"
   ]
  },
  {
   "cell_type": "code",
   "execution_count": 40,
   "id": "b88c22e7",
   "metadata": {},
   "outputs": [],
   "source": [
    "from pprint import pprint #<Данная функция нужна для форматирования\n",
    "\n",
    "courses_dict = dict()\n",
    "courses_dict['Python'] = ['Артем Чистяков', 'Елена Никитина', 'Ринат Хабибиев', 'Евгений Шмаргунов', 'Олег Булыгин']\n",
    "courses_dict['Frontend'] = ['Татьяна Тен', 'Александр Фитискин', 'Алена Батицкая']"
   ]
  },
  {
   "cell_type": "code",
   "execution_count": 44,
   "id": "51054e6e",
   "metadata": {},
   "outputs": [
    {
     "name": "stdout",
     "output_type": "stream",
     "text": [
      "['Артем Чистяков',\n",
      " 'Елена Никитина',\n",
      " 'Ринат Хабибиев',\n",
      " 'Евгений Шмаргунов',\n",
      " 'Олег Булыгин']\n"
     ]
    }
   ],
   "source": [
    "pprint(courses_dict['Python'])"
   ]
  },
  {
   "cell_type": "code",
   "execution_count": 46,
   "id": "e767cdd1",
   "metadata": {},
   "outputs": [
    {
     "name": "stdout",
     "output_type": "stream",
     "text": [
      "None\n"
     ]
    }
   ],
   "source": [
    "# Вызываем элемент словаря по несуществующему ключу. Система ответила, что его не существует\n",
    "print(courses_dict.get('cpp'))"
   ]
  },
  {
   "cell_type": "code",
   "execution_count": 47,
   "id": "f9c1094a",
   "metadata": {},
   "outputs": [
    {
     "name": "stdout",
     "output_type": "stream",
     "text": [
      "dict_keys(['Python', 'Frontend'])\n"
     ]
    }
   ],
   "source": [
    "# Получаем все ключи словаря\n",
    "print(courses_dict.keys())"
   ]
  },
  {
   "cell_type": "code",
   "execution_count": 50,
   "id": "98bc5672",
   "metadata": {},
   "outputs": [
    {
     "name": "stdout",
     "output_type": "stream",
     "text": [
      "dict_values([['Артем Чистяков', 'Елена Никитина', 'Ринат Хабибиев', 'Евгений Шмаргунов', 'Олег Булыгин'], ['Татьяна Тен', 'Александр Фитискин', 'Алена Батицкая']])\n"
     ]
    }
   ],
   "source": [
    "# Получаем все значения словаря\n",
    "print(courses_dict.values())"
   ]
  },
  {
   "cell_type": "code",
   "execution_count": 51,
   "id": "0d57981a",
   "metadata": {},
   "outputs": [
    {
     "name": "stdout",
     "output_type": "stream",
     "text": [
      "dict_items([('Python', ['Артем Чистяков', 'Елена Никитина', 'Ринат Хабибиев', 'Евгений Шмаргунов', 'Олег Булыгин']), ('Frontend', ['Татьяна Тен', 'Александр Фитискин', 'Алена Батицкая'])])\n"
     ]
    }
   ],
   "source": [
    "# Получаем все ключи и значения словаря\n",
    "print(courses_dict.items())"
   ]
  },
  {
   "cell_type": "code",
   "execution_count": 56,
   "id": "fe59b413",
   "metadata": {},
   "outputs": [
    {
     "name": "stdout",
     "output_type": "stream",
     "text": [
      "Ключ:Python, Значение:['Артем Чистяков', 'Елена Никитина', 'Ринат Хабибиев', 'Евгений Шмаргунов', 'Олег Булыгин']\n",
      "Ключ:Frontend, Значение:['Татьяна Тен', 'Александр Фитискин', 'Алена Батицкая']\n"
     ]
    }
   ],
   "source": [
    "# Или вот такое к пример \"Цикл\" показывающее все ключи и значения словаря\n",
    "for key, values in  courses_dict.items():\n",
    "    print('Ключ:{0}, Значение:{1}'.format(key, values))"
   ]
  },
  {
   "cell_type": "code",
   "execution_count": 60,
   "id": "c1efc40b",
   "metadata": {},
   "outputs": [
    {
     "name": "stdout",
     "output_type": "stream",
     "text": [
      "Python ['Артем Чистяков', 'Елена Никитина', 'Ринат Хабибиев', 'Евгений Шмаргунов', 'Олег Булыгин']\n",
      "Frontend ['Татьяна Тен', 'Александр Фитискин', 'Алена Батицкая']\n"
     ]
    }
   ],
   "source": [
    "# Или вот такое к пример \"Цикл\" показывающее все ключи и значения словаря\n",
    "for key, values in  courses_dict.items():\n",
    "    # Вывод строки изменен\n",
    "    print('%s %s' % (key, values))"
   ]
  },
  {
   "cell_type": "code",
   "execution_count": 61,
   "id": "6df42d80",
   "metadata": {},
   "outputs": [
    {
     "name": "stdout",
     "output_type": "stream",
     "text": [
      "Python ['Артем Чистяков', 'Елена Никитина', 'Ринат Хабибиев', 'Евгений Шмаргунов', 'Олег Булыгин']\n",
      "Frontend ['Татьяна Тен', 'Александр Фитискин', 'Алена Батицкая']\n"
     ]
    }
   ],
   "source": [
    "# Или вот такое к пример \"Цикл\" показывающее все ключи и значения словаря\n",
    "for key in  courses_dict:\n",
    "    # Вывод строки изменен\n",
    "    print('%s %s' % (key,courses_dict[key]))"
   ]
  },
  {
   "cell_type": "markdown",
   "id": "73568f48",
   "metadata": {},
   "source": [
    "# Множества"
   ]
  },
  {
   "cell_type": "code",
   "execution_count": 3,
   "id": "2a24c2dd",
   "metadata": {},
   "outputs": [],
   "source": [
    "python_set = set(['Артем Чистяков', 'Елена Никитина', 'Ринат Хабибиев', 'Евгений Шмаргунов', 'Олег Булыгин'])\n",
    "test_set = set(['Татьяна Тен', 'Александр Фитискин', 'Алена Батицкая', 'Олег Булыгин'])"
   ]
  },
  {
   "cell_type": "code",
   "execution_count": 4,
   "id": "7d8b374c",
   "metadata": {},
   "outputs": [
    {
     "name": "stdout",
     "output_type": "stream",
     "text": [
      "{'Ринат Хабибиев', 'Олег Булыгин', 'Елена Никитина', 'Артем Чистяков', 'Евгений Шмаргунов'} {'Александр Фитискин', 'Алена Батицкая', 'Олег Булыгин', 'Татьяна Тен'}\n"
     ]
    }
   ],
   "source": [
    "print (python_set, test_set)"
   ]
  },
  {
   "cell_type": "markdown",
   "id": "0b2deffb",
   "metadata": {},
   "source": [
    "### Объединение, пересечение множеств"
   ]
  },
  {
   "cell_type": "code",
   "execution_count": 78,
   "id": "1592cc04",
   "metadata": {},
   "outputs": [
    {
     "name": "stdout",
     "output_type": "stream",
     "text": [
      "{'Артем Чистяков', 'Елена Никитина', 'Евгений Шмаргунов', 'Александр Фитискин', 'Татьяна Тен', 'Олег Булыгин', 'Алена Батицкая', 'Ринат Хабибиев'}\n"
     ]
    }
   ],
   "source": [
    "# Объединение  (В результирующем  сете присутствует Булыгин 1 раз. Хотя и в том и этом сете он присутствовал)\n",
    "print (python_set | test_set)"
   ]
  },
  {
   "cell_type": "code",
   "execution_count": 13,
   "id": "b999c5b5",
   "metadata": {},
   "outputs": [
    {
     "name": "stdout",
     "output_type": "stream",
     "text": [
      "{'Олег Булыгин'}\n",
      "{'Олег Булыгин'}\n"
     ]
    }
   ],
   "source": [
    "# Пересечение (логическое И. И в одном сете и в другом сете присутствует Булыгин)\n",
    "print (python_set & test_set)\n",
    "#Подходит и такой вариант\n",
    "print (python_set.intersection(test_set))"
   ]
  },
  {
   "cell_type": "code",
   "execution_count": 5,
   "id": "5f73ab18",
   "metadata": {},
   "outputs": [
    {
     "name": "stdout",
     "output_type": "stream",
     "text": [
      "{'Елена Никитина', 'Артем Чистяков', 'Евгений Шмаргунов', 'Ринат Хабибиев'}\n"
     ]
    }
   ],
   "source": [
    "# Возращает элементы одного множества которые не пренадлежат другому. \n",
    "diff = python_set.difference (test_set)\n",
    "print (diff)"
   ]
  },
  {
   "cell_type": "code",
   "execution_count": 8,
   "id": "fa549a9b",
   "metadata": {},
   "outputs": [
    {
     "name": "stdout",
     "output_type": "stream",
     "text": [
      "Difference: {'Елена Никитина', 'Артем Чистяков', 'Евгений Шмаргунов', 'Ринат Хабибиев'}\n"
     ]
    }
   ],
   "source": [
    "# Возращает элементы которые встречаются в одном множестве, но не встречаются в обоих. Былыгина нет.\n",
    "symdiff = python_set.symmetric_difference(test_set)\n",
    "#print (symdiff)\n",
    "\n",
    "#Один из новых методов вывода в значений в консоль\n",
    "print ('Difference: {}'.format(diff))\n",
    "\n"
   ]
  },
  {
   "cell_type": "markdown",
   "id": "7115a827",
   "metadata": {},
   "source": [
    "#### Exampl: Задача, в которой необходимо найти квартиры с заданным бюджетом"
   ]
  },
  {
   "cell_type": "code",
   "execution_count": 56,
   "id": "2d6266e8",
   "metadata": {},
   "outputs": [
    {
     "name": "stdout",
     "output_type": "stream",
     "text": [
      "Нам подходит квартира бюджетом <=3.000.000 руб. с ID 151730037\n",
      "В итоге нам подошло 1 квартир\n",
      "Нам подходит квартира бюджетом <=3.000.000 руб. с ID 156725878\n",
      "В итоге нам подошло 2 квартир\n",
      "Нам подходит квартира бюджетом <=3.000.000 руб. с ID 151729500\n",
      "В итоге нам подошло 3 квартир\n",
      "Нам подходит квартира бюджетом <=3.000.000 руб. с ID 151729730\n",
      "В итоге нам подошло 4 квартир\n",
      "Нам подходит квартира бюджетом <=3.000.000 руб. с ID 156725879\n",
      "В итоге нам подошло 5 квартир\n",
      "Нам подходит квартира бюджетом <=3.000.000 руб. с ID 156653312\n",
      "В итоге нам подошло 6 квартир\n",
      "Нам подходит квартира бюджетом <=3.000.000 руб. с ID 156654029\n",
      "В итоге нам подошло 7 квартир\n"
     ]
    }
   ],
   "source": [
    "import csv\n",
    "\n",
    "flats_list = list()\n",
    "\n",
    "with open('output.csv', newline='') as csvfile:\n",
    "\tflats_csv = csv.reader(csvfile, delimiter=';')\n",
    "\tflats_list = list(flats_csv)\n",
    "# Выше Блок который импортирует файл формата .csv и его открывает. \n",
    "    \n",
    "header = flats_list.pop (0) # .pop(0) - удаляет элемент  списка по индексу. Можно и по варинту ниже\n",
    "#del (flats_list[0]) результат будет один и тот же, только .pop позволяет удаленный элемент сохранить в переменной Header\n",
    "\n",
    "budjet = 2500000\n",
    "count = 0\n",
    "for flat in flats_list:\n",
    "    if int(flat[11]) <= budjet:\n",
    "        count +=1\n",
    "        print('Нам подходит квартира бюджетом <=3.000.000 руб. с ID {}'.format(flat[0]))\n",
    "        print ('В итоге нам подошло {} квартир'.format(count))\n",
    "    \n"
   ]
  },
  {
   "cell_type": "markdown",
   "id": "2ad4c7ae",
   "metadata": {},
   "source": [
    "#### Task: Необходимо отфильтровать квартиры которые рядом с метром"
   ]
  },
  {
   "cell_type": "code",
   "execution_count": 122,
   "id": "94979c9e",
   "metadata": {},
   "outputs": [
    {
     "name": "stdout",
     "output_type": "stream",
     "text": [
      "{'', 'м.Митино', 'м.Черкизовская', 'м.Речнойвокзал', 'м.Беляево', 'м.Пятницкоешоссе', 'м.Алтуфьево', 'м.Люблино', 'м.Домодедовская', 'м.Саларьево', 'м.Щелковская', 'м.Марьино', 'м.Выхино', 'м.Царицыно', 'м.Юго-Западная', 'м.БульварДмитрияДонского', 'м.УлицаГорчакова', 'м.ТеплыйСтан', 'м.Соколинаягора', 'м.Пражская', 'м.Бунинскаяаллея', 'м.Отрадное'} \n",
      "\n",
      "['м.Черкизовская', 'м.Беляево', '', 'м.Пятницкоешоссе', 'м.ТеплыйСтан', 'м.Пятницкоешоссе', 'м.Пятницкоешоссе', 'м.ТеплыйСтан', 'м.Пятницкоешоссе', 'м.Пятницкоешоссе', 'м.Пятницкоешоссе', '', 'м.Пятницкоешоссе', 'м.Пятницкоешоссе', '', 'м.Соколинаягора', 'м.Пятницкоешоссе', 'м.Речнойвокзал', 'м.ТеплыйСтан', 'м.ТеплыйСтан', 'м.ТеплыйСтан', 'м.ТеплыйСтан', 'м.Бунинскаяаллея', 'м.ТеплыйСтан', 'м.Бунинскаяаллея', 'м.Саларьево', '', 'м.Алтуфьево', 'м.ТеплыйСтан', 'м.ТеплыйСтан', 'м.Черкизовская', 'м.ТеплыйСтан', 'м.Бунинскаяаллея', 'м.ТеплыйСтан', 'м.Саларьево', 'м.Саларьево', 'м.Саларьево', '', 'м.ТеплыйСтан', 'м.Саларьево', 'м.ТеплыйСтан', 'м.Алтуфьево', 'м.Саларьево', 'м.ТеплыйСтан', 'м.ТеплыйСтан', 'м.Саларьево', 'м.ТеплыйСтан', 'м.Беляево', 'м.Саларьево', 'м.Алтуфьево', '', 'м.Щелковская', 'м.Саларьево', 'м.ТеплыйСтан', 'м.Саларьево', 'м.ТеплыйСтан', 'м.Бунинскаяаллея', '', 'м.Саларьево', 'м.Бунинскаяаллея', 'м.Бунинскаяаллея', 'м.Саларьево', 'м.ТеплыйСтан', 'м.ТеплыйСтан', 'м.Пятницкоешоссе', 'м.ТеплыйСтан', 'м.Саларьево', 'м.Митино', 'м.Саларьево', 'м.Саларьево', 'м.Саларьево', 'м.Бунинскаяаллея', 'м.Саларьево', 'м.Саларьево', 'м.Бунинскаяаллея', '', 'м.Юго-Западная', 'м.Саларьево', '', 'м.Юго-Западная', '', 'м.Саларьево', 'м.Саларьево', 'м.Юго-Западная', '', 'м.Саларьево', 'м.УлицаГорчакова', 'м.Бунинскаяаллея', '', 'м.Речнойвокзал', 'м.Саларьево', 'м.Пятницкоешоссе', 'м.Бунинскаяаллея', 'м.Бунинскаяаллея', '', 'м.Бунинскаяаллея', 'м.Юго-Западная', '', 'м.Саларьево', '', 'м.Бунинскаяаллея', 'м.Бунинскаяаллея', 'м.Бунинскаяаллея', 'м.Пятницкоешоссе', 'м.Саларьево', 'м.ТеплыйСтан', 'м.Бунинскаяаллея', 'м.ТеплыйСтан', 'м.Саларьево', '', 'м.Алтуфьево', 'м.Саларьево', 'м.ТеплыйСтан', 'м.Юго-Западная', '', '', 'м.Саларьево', 'м.Бунинскаяаллея', '', 'м.Саларьево', '', 'м.Саларьево', 'м.Алтуфьево', 'м.Алтуфьево', 'м.Пятницкоешоссе', 'м.УлицаГорчакова', 'м.Саларьево', 'м.ТеплыйСтан', '', 'м.Саларьево', '', 'м.Бунинскаяаллея', 'м.Саларьево', 'м.Саларьево', 'м.УлицаГорчакова', 'м.ТеплыйСтан', 'м.Саларьево', 'м.Алтуфьево', 'м.Саларьево', 'м.Бунинскаяаллея', 'м.Саларьево', 'м.Люблино', 'м.Саларьево', 'м.ТеплыйСтан', 'м.Бунинскаяаллея', 'м.Люблино', 'м.ТеплыйСтан', 'м.Саларьево', 'м.Домодедовская', '', 'м.ТеплыйСтан', 'м.Марьино', 'м.Люблино', 'м.Юго-Западная', 'м.Саларьево', 'м.ТеплыйСтан', 'м.ТеплыйСтан', 'м.Бунинскаяаллея', 'м.Саларьево', 'м.Люблино', 'м.Люблино', 'м.Алтуфьево', 'м.Бунинскаяаллея', 'м.Выхино', 'м.Алтуфьево', 'м.Саларьево', 'м.Саларьево', 'м.ТеплыйСтан', 'м.Саларьево', 'м.ТеплыйСтан', 'м.УлицаГорчакова', 'м.Саларьево', 'м.Саларьево', 'м.Пражская', 'м.БульварДмитрияДонского', 'м.Царицыно', '', 'м.Бунинскаяаллея', 'м.ТеплыйСтан', '', 'м.Саларьево', 'м.Саларьево', 'м.Бунинскаяаллея', 'м.Саларьево', 'м.УлицаГорчакова', 'м.Отрадное', 'м.Бунинскаяаллея', 'м.Саларьево', 'м.ТеплыйСтан', 'м.Бунинскаяаллея', 'м.Бунинскаяаллея', '', 'м.Бунинскаяаллея', 'м.ТеплыйСтан', 'м.Алтуфьево', 'м.Саларьево', '', 'м.Бунинскаяаллея', 'м.Саларьево', 'м.БульварДмитрияДонского', 'м.Юго-Западная', 'м.ТеплыйСтан', 'м.Марьино']\n"
     ]
    }
   ],
   "source": [
    "import csv\n",
    "\n",
    "flats_list = list()\n",
    "\n",
    "with open('output.csv', newline='') as csvfile:\n",
    "\tflats_csv = csv.reader(csvfile, delimiter=';')\n",
    "\tflats_list = list(flats_csv)\n",
    "# Выше Блок который импортирует файл формата .csv и его открывает. \n",
    "budjet = 3000000\n",
    "count = 0\n",
    "subway_set = set()\n",
    "subway_list = list()\n",
    "header = flats_list.pop(0)\n",
    "\n",
    "for flat in flats_list:\n",
    "    #if int(flat[11]) <= budjet:\n",
    "    #count +=1\n",
    "    subway_set.add(flat[3])\n",
    "    subway_list.append(flat[3])\n",
    "    \n",
    "print(subway_set, '\\n')\n",
    "print (subway_list)\n",
    "    \n",
    "\n",
    "\n",
    "    #print (subway_list) #Можно данные представить в виде списка и в виде множества. \n",
    "   #Но в множестве станции метро уникальные, в списке повторяются"
   ]
  },
  {
   "cell_type": "markdown",
   "id": "bb3726ec",
   "metadata": {},
   "source": [
    "#### Task: Меняем название метро с \"м.\", на без этого сокращения"
   ]
  },
  {
   "cell_type": "code",
   "execution_count": 123,
   "id": "01a558e0",
   "metadata": {},
   "outputs": [
    {
     "name": "stdout",
     "output_type": "stream",
     "text": [
      "{'', 'Щелковская', 'Черкизовская', 'ТеплыйСтан', 'Марьино', 'Отрадное', 'Пятницкоешоссе', 'Саларьево', 'Юго-Западная', 'Бунинскаяаллея', 'Царицыно', 'Домодедовская', 'Соколинаягора', 'Митино', 'Беляево', 'Речнойвокзал', 'Алтуфьево', 'Люблино', 'Выхино', 'БульварДмитрияДонского', 'УлицаГорчакова', 'Пражская'}\n"
     ]
    }
   ],
   "source": [
    "import csv\n",
    "\n",
    "flats_list = list()\n",
    "\n",
    "with open('output.csv', newline='') as csvfile:\n",
    "\tflats_csv = csv.reader(csvfile, delimiter=';')\n",
    "\tflats_list = list(flats_csv)\n",
    "# Выше Блок который импортирует файл формата .csv и его открывает. \n",
    "budjet = 3000000\n",
    "count = 0\n",
    "subway_set = set()\n",
    "subway_list = list()\n",
    "test_set = (['Люблюно','Выхино', 'Пражская'])\n",
    "header = flats_list.pop(0)\n",
    "\n",
    "for flat in flats_list:\n",
    "    subway = flat[3].replace ('м.', '') #Этот блок позволяет убрать \"м.\" через оператор .replace\n",
    "    subway_set.add(subway)\n",
    "    \n",
    "    \n",
    "print(subway_set)\n",
    "    "
   ]
  },
  {
   "cell_type": "markdown",
   "id": "e452dbdb",
   "metadata": {},
   "source": [
    "#### Task: Делаем пересечение (логическое И) с множеством test_set"
   ]
  },
  {
   "cell_type": "code",
   "execution_count": 124,
   "id": "489ca59c",
   "metadata": {},
   "outputs": [
    {
     "name": "stdout",
     "output_type": "stream",
     "text": [
      "{'Люблино', 'Выхино', 'Пражская'}\n"
     ]
    }
   ],
   "source": [
    "import csv\n",
    "\n",
    "flats_list = list()\n",
    "\n",
    "with open('output.csv', newline='') as csvfile:\n",
    "\tflats_csv = csv.reader(csvfile, delimiter=';')\n",
    "\tflats_list = list(flats_csv)\n",
    "# Выше Блок который импортирует файл формата .csv и его открывает. \n",
    "budjet = 7000000\n",
    "count = 0\n",
    "subway_set = set()\n",
    "subway_list = list()\n",
    "header = flats_list.pop(0)\n",
    "test_set = set(['Выхино', 'Люблино', 'Пражская'])\n",
    "for flat in flats_list:\n",
    "    \n",
    "    subway = flat[3].replace ('м.', '') #Этот блок позволяет убрать \"м.\" через оператор .replace\n",
    "    subway_set.add(subway)\n",
    "    \n",
    "    \n",
    "print (subway_set & test_set) \n",
    "    "
   ]
  },
  {
   "cell_type": "markdown",
   "id": "a2743b8c",
   "metadata": {},
   "source": [
    "#### Task: По станции метро подобрать квартиры"
   ]
  },
  {
   "cell_type": "code",
   "execution_count": 34,
   "id": "2bb8d5f5",
   "metadata": {},
   "outputs": [
    {
     "name": "stdout",
     "output_type": "stream",
     "text": [
      "{'': ['155420816',\n",
      "      '149951011',\n",
      "      '156682759',\n",
      "      '149001147',\n",
      "      '156217722',\n",
      "      '149966909',\n",
      "      '156514099',\n",
      "      '153560876',\n",
      "      '153560874',\n",
      "      '151836538',\n",
      "      '153560875',\n",
      "      '154810830',\n",
      "      '108697912',\n",
      "      '137950744',\n",
      "      '154810826',\n",
      "      '154715824',\n",
      "      '156418325',\n",
      "      '154575562',\n",
      "      '154714438',\n",
      "      '153560917',\n",
      "      '154810839',\n",
      "      '153560823',\n",
      "      '156182071',\n",
      "      '155953437',\n",
      "      '154938882',\n",
      "      '155955298',\n",
      "      '154454775'],\n",
      " 'Алтуфьево': ['151811103',\n",
      "               '153051830',\n",
      "               '156394461',\n",
      "               '153051744',\n",
      "               '151811039',\n",
      "               '151810960',\n",
      "               '151811067',\n",
      "               '151811056',\n",
      "               '153051927',\n",
      "               '154306576'],\n",
      " 'Беляево': ['156070221', '154430246'],\n",
      " 'БульварДмитрияДонского': ['155460520', '152755250'],\n",
      " 'Бунинскаяаллея': ['153897053',\n",
      "                    '154398162',\n",
      "                    '156110298',\n",
      "                    '153997539',\n",
      "                    '156417996',\n",
      "                    '154467367',\n",
      "                    '151777863',\n",
      "                    '156486451',\n",
      "                    '152153885',\n",
      "                    '152362213',\n",
      "                    '154371056',\n",
      "                    '154360080',\n",
      "                    '151777662',\n",
      "                    '156653543',\n",
      "                    '156075768',\n",
      "                    '156417998',\n",
      "                    '152362285',\n",
      "                    '155955056',\n",
      "                    '155142462',\n",
      "                    '151778003',\n",
      "                    '156074925',\n",
      "                    '151605375',\n",
      "                    '156613655',\n",
      "                    '151778119',\n",
      "                    '156235717',\n",
      "                    '155686508',\n",
      "                    '156411673',\n",
      "                    '152339776',\n",
      "                    '156394454'],\n",
      " 'Выхино': ['156110460'],\n",
      " 'Домодедовская': ['155988592'],\n",
      " 'Люблино': ['151728406', '151728896', '151728883', '155476290', '151728774'],\n",
      " 'Марьино': ['152520744', '155940640'],\n",
      " 'Митино': ['155567665'],\n",
      " 'Отрадное': ['153609175'],\n",
      " 'Пражская': ['154132723'],\n",
      " 'Пятницкоешоссе': ['151730037',\n",
      "                    '151729500',\n",
      "                    '151729730',\n",
      "                    '156653312',\n",
      "                    '156654029',\n",
      "                    '151730016',\n",
      "                    '156653438',\n",
      "                    '151730186',\n",
      "                    '151729862',\n",
      "                    '156653801',\n",
      "                    '156653257',\n",
      "                    '156653896',\n",
      "                    '151729355'],\n",
      " 'Речнойвокзал': ['152289940', '152240605'],\n",
      " 'Саларьево': ['154853002',\n",
      "               '153051900',\n",
      "               '156388046',\n",
      "               '156453399',\n",
      "               '156386868',\n",
      "               '155142224',\n",
      "               '156075764',\n",
      "               '156394528',\n",
      "               '156388913',\n",
      "               '156388965',\n",
      "               '156388972',\n",
      "               '156388147',\n",
      "               '156389087',\n",
      "               '156630058',\n",
      "               '156389286',\n",
      "               '156387026',\n",
      "               '152936472',\n",
      "               '156504998',\n",
      "               '156387110',\n",
      "               '153836606',\n",
      "               '156387259',\n",
      "               '156386712',\n",
      "               '156389152',\n",
      "               '156386958',\n",
      "               '156386866',\n",
      "               '152955616',\n",
      "               '156389097',\n",
      "               '156389036',\n",
      "               '156386807',\n",
      "               '156387115',\n",
      "               '156388118',\n",
      "               '156389218',\n",
      "               '156386819',\n",
      "               '156389004',\n",
      "               '156387188',\n",
      "               '156386822',\n",
      "               '156386876',\n",
      "               '156388999',\n",
      "               '156386709',\n",
      "               '156388465',\n",
      "               '156074739',\n",
      "               '156386854',\n",
      "               '156387284',\n",
      "               '156387729',\n",
      "               '156075466',\n",
      "               '156387774',\n",
      "               '151424816',\n",
      "               '156387331',\n",
      "               '156387131',\n",
      "               '156177639',\n",
      "               '155941585',\n",
      "               '156387393'],\n",
      " 'Соколинаягора': ['155624593'],\n",
      " 'ТеплыйСтан': ['156725878',\n",
      "                '156725879',\n",
      "                '156725873',\n",
      "                '154645763',\n",
      "                '156599642',\n",
      "                '154644487',\n",
      "                '155578674',\n",
      "                '154644471',\n",
      "                '156725899',\n",
      "                '154645843',\n",
      "                '154644642',\n",
      "                '154645926',\n",
      "                '154645717',\n",
      "                '154958564',\n",
      "                '156201632',\n",
      "                '154645839',\n",
      "                '154645595',\n",
      "                '154645925',\n",
      "                '156725880',\n",
      "                '153015833',\n",
      "                '154644550',\n",
      "                '154628062',\n",
      "                '154644262',\n",
      "                '154849811',\n",
      "                '156725865',\n",
      "                '155935413',\n",
      "                '155578659',\n",
      "                '154645266',\n",
      "                '155920458',\n",
      "                '154645749',\n",
      "                '156725881',\n",
      "                '154645213',\n",
      "                '156000039',\n",
      "                '154523500',\n",
      "                '153761982',\n",
      "                '154644419',\n",
      "                '155773611'],\n",
      " 'УлицаГорчакова': ['152104085',\n",
      "                    '152104421',\n",
      "                    '152103637',\n",
      "                    '152104220',\n",
      "                    '152104467'],\n",
      " 'Царицыно': ['156000680'],\n",
      " 'Черкизовская': ['156605497', '156604895'],\n",
      " 'Щелковская': ['156522473'],\n",
      " 'Юго-Западная': ['154748053',\n",
      "                  '155015164',\n",
      "                  '156653361',\n",
      "                  '155706939',\n",
      "                  '153187405',\n",
      "                  '154477086',\n",
      "                  '156317780']}\n"
     ]
    }
   ],
   "source": [
    "from pprint import pprint \n",
    "\n",
    "import csv\n",
    "\n",
    "flats_list = list()\n",
    "\n",
    "with open('output.csv', newline='') as csvfile:\n",
    "\tflats_csv = csv.reader(csvfile, delimiter=';')\n",
    "\tflats_list = list(flats_csv)\n",
    "# Выше Блок который импортирует файл формата .csv и его открывает. \n",
    "budjet = 7000000\n",
    "count = 0\n",
    "subway_set = set()\n",
    "subway_list = list()\n",
    "header = flats_list.pop(0)\n",
    "flats_dict = dict()\n",
    "\n",
    "for flat in flats_list:\n",
    "    subway = flat[3].replace ('м.', '')\n",
    "    subway_set.add(subway)\n",
    "    \n",
    "   # if subway not in flats_dict.keys():   # Условие если переменная subway, содержащая станции метро, не входит в значения ключей в flats_dict.keys(), тогда первой переменой должен создаться новый пустой список []\n",
    "        #flats_dict[subway] = []\n",
    "    \n",
    "    flats_dict.setdefault (subway, [])   # Альтернатива условию выше. Функция setdefault говорит если ключа нет, я его создам. Если ключ есть, она ни чего не делает\n",
    "        \n",
    "    flats_dict[subway].append(flat[0]) # Функция append добавляет к ключу в переменной subway значение находящееся в\n",
    "    # циклической переменной  flat[0], где [0] это индитификатор квартир \n",
    "    \n",
    "pprint (flats_dict)"
   ]
  },
  {
   "cell_type": "markdown",
   "id": "75adf4e6",
   "metadata": {},
   "source": [
    "### TODO домашнее задание 1:\n",
    "#### 1) Напишите цикл, который проходит по всем квартирам, и показывает только новостройки\n",
    "#### и их порядковые номера в файле. Подсказка - вам нужно изменить этот код:\n",
    "\n",
    "#### 2) добавьте в код подсчет количества новостроек"
   ]
  },
  {
   "cell_type": "code",
   "execution_count": 12,
   "id": "8ff4b657",
   "metadata": {},
   "outputs": [
    {
     "name": "stdout",
     "output_type": "stream",
     "text": [
      " Индитификатор квартир в новостройках : 156605497\n",
      "Количество квартир: 1\n",
      " Индитификатор квартир в новостройках : 151730037\n",
      "Количество квартир: 2\n",
      " Индитификатор квартир в новостройках : 156725878\n",
      "Количество квартир: 3\n",
      " Индитификатор квартир в новостройках : 151729500\n",
      "Количество квартир: 4\n",
      " Индитификатор квартир в новостройках : 151729730\n",
      "Количество квартир: 5\n",
      " Индитификатор квартир в новостройках : 156725879\n",
      "Количество квартир: 6\n",
      " Индитификатор квартир в новостройках : 156653312\n",
      "Количество квартир: 7\n",
      " Индитификатор квартир в новостройках : 156654029\n",
      "Количество квартир: 8\n",
      " Индитификатор квартир в новостройках : 151730016\n",
      "Количество квартир: 9\n",
      " Индитификатор квартир в новостройках : 156653438\n",
      "Количество квартир: 10\n",
      " Индитификатор квартир в новостройках : 151730186\n",
      "Количество квартир: 11\n",
      " Индитификатор квартир в новостройках : 151729862\n",
      "Количество квартир: 12\n",
      " Индитификатор квартир в новостройках : 156725873\n",
      "Количество квартир: 13\n",
      " Индитификатор квартир в новостройках : 154645763\n",
      "Количество квартир: 14\n",
      " Индитификатор квартир в новостройках : 154644487\n",
      "Количество квартир: 15\n",
      " Индитификатор квартир в новостройках : 153897053\n",
      "Количество квартир: 16\n",
      " Индитификатор квартир в новостройках : 155578674\n",
      "Количество квартир: 17\n",
      " Индитификатор квартир в новостройках : 154398162\n",
      "Количество квартир: 18\n",
      " Индитификатор квартир в новостройках : 151811103\n",
      "Количество квартир: 19\n",
      " Индитификатор квартир в новостройках : 154644471\n",
      "Количество квартир: 20\n",
      " Индитификатор квартир в новостройках : 156725899\n",
      "Количество квартир: 21\n",
      " Индитификатор квартир в новостройках : 156604895\n",
      "Количество квартир: 22\n",
      " Индитификатор квартир в новостройках : 154645843\n",
      "Количество квартир: 23\n",
      " Индитификатор квартир в новостройках : 156110298\n",
      "Количество квартир: 24\n",
      " Индитификатор квартир в новостройках : 154644642\n",
      "Количество квартир: 25\n",
      " Индитификатор квартир в новостройках : 153051900\n",
      "Количество квартир: 26\n",
      " Индитификатор квартир в новостройках : 156388046\n",
      "Количество квартир: 27\n",
      " Индитификатор квартир в новостройках : 154645926\n",
      "Количество квартир: 28\n",
      " Индитификатор квартир в новостройках : 156386868\n",
      "Количество квартир: 29\n",
      " Индитификатор квартир в новостройках : 154645717\n",
      "Количество квартир: 30\n",
      " Индитификатор квартир в новостройках : 153051830\n",
      "Количество квартир: 31\n",
      " Индитификатор квартир в новостройках : 155142224\n",
      "Количество квартир: 32\n",
      " Индитификатор квартир в новостройках : 154958564\n",
      "Количество квартир: 33\n",
      " Индитификатор квартир в новостройках : 156201632\n",
      "Количество квартир: 34\n",
      " Индитификатор квартир в новостройках : 156075764\n",
      "Количество квартир: 35\n",
      " Индитификатор квартир в новостройках : 154645839\n",
      "Количество квартир: 36\n",
      " Индитификатор квартир в новостройках : 156394528\n",
      "Количество квартир: 37\n",
      " Индитификатор квартир в новостройках : 156394461\n",
      "Количество квартир: 38\n",
      " Индитификатор квартир в новостройках : 156388913\n",
      "Количество квартир: 39\n",
      " Индитификатор квартир в новостройках : 154645595\n",
      "Количество квартир: 40\n",
      " Индитификатор квартир в новостройках : 156388965\n",
      "Количество квартир: 41\n",
      " Индитификатор квартир в новостройках : 154645925\n",
      "Количество квартир: 42\n",
      " Индитификатор квартир в новостройках : 153997539\n",
      "Количество квартир: 43\n",
      " Индитификатор квартир в новостройках : 156388972\n",
      "Количество квартир: 44\n",
      " Индитификатор квартир в новостройках : 156388147\n",
      "Количество квартир: 45\n",
      " Индитификатор квартир в новостройках : 156725880\n",
      "Количество квартир: 46\n",
      " Индитификатор квартир в новостройках : 156653801\n",
      "Количество квартир: 47\n",
      " Индитификатор квартир в новостройках : 154644550\n",
      "Количество квартир: 48\n",
      " Индитификатор квартир в новостройках : 156389087\n",
      "Количество квартир: 49\n",
      " Индитификатор квартир в новостройках : 155567665\n",
      "Количество квартир: 50\n",
      " Индитификатор квартир в новостройках : 156389286\n",
      "Количество квартир: 51\n",
      " Индитификатор квартир в новостройках : 156387026\n",
      "Количество квартир: 52\n",
      " Индитификатор квартир в новостройках : 151777863\n",
      "Количество квартир: 53\n",
      " Индитификатор квартир в новостройках : 152936472\n",
      "Количество квартир: 54\n",
      " Индитификатор квартир в новостройках : 153560876\n",
      "Количество квартир: 55\n",
      " Индитификатор квартир в новостройках : 154748053\n",
      "Количество квартир: 56\n",
      " Индитификатор квартир в новостройках : 156387110\n",
      "Количество квартир: 57\n",
      " Индитификатор квартир в новостройках : 153560874\n",
      "Количество квартир: 58\n",
      " Индитификатор квартир в новостройках : 156387259\n",
      "Количество квартир: 59\n",
      " Индитификатор квартир в новостройках : 156653361\n",
      "Количество квартир: 60\n",
      " Индитификатор квартир в новостройках : 153560875\n",
      "Количество квартир: 61\n",
      " Индитификатор квартир в новостройках : 156386712\n",
      "Количество квартир: 62\n",
      " Индитификатор квартир в новостройках : 152104085\n",
      "Количество квартир: 63\n",
      " Индитификатор квартир в новостройках : 152153885\n",
      "Количество квартир: 64\n",
      " Индитификатор квартир в новостройках : 154810830\n",
      "Количество квартир: 65\n",
      " Индитификатор квартир в новостройках : 156389152\n",
      "Количество квартир: 66\n",
      " Индитификатор квартир в новостройках : 156653257\n",
      "Количество квартир: 67\n",
      " Индитификатор квартир в новостройках : 152362213\n",
      "Количество квартир: 68\n",
      " Индитификатор квартир в новостройках : 156386958\n",
      "Количество квартир: 69\n",
      " Индитификатор квартир в новостройках : 154810826\n",
      "Количество квартир: 70\n",
      " Индитификатор квартир в новостройках : 151777662\n",
      "Количество квартир: 71\n",
      " Индитификатор квартир в новостройках : 156653543\n",
      "Количество квартир: 72\n",
      " Индитификатор квартир в новостройках : 156075768\n",
      "Количество квартир: 73\n",
      " Индитификатор квартир в новостройках : 156653896\n",
      "Количество квартир: 74\n",
      " Индитификатор квартир в новостройках : 156386866\n",
      "Количество квартир: 75\n",
      " Индитификатор квартир в новостройках : 154644262\n",
      "Количество квартир: 76\n",
      " Индитификатор квартир в новостройках : 154715824\n",
      "Количество квартир: 77\n",
      " Индитификатор квартир в новостройках : 153051744\n",
      "Количество квартир: 78\n",
      " Индитификатор квартир в новостройках : 156389097\n",
      "Количество квартир: 79\n",
      " Индитификатор квартир в новостройках : 156389036\n",
      "Количество квартир: 80\n",
      " Индитификатор квартир в новостройках : 152362285\n",
      "Количество квартир: 81\n",
      " Индитификатор квартир в новостройках : 154714438\n",
      "Количество квартир: 82\n",
      " Индитификатор квартир в новостройках : 156386807\n",
      "Количество квартир: 83\n",
      " Индитификатор квартир в новостройках : 153560917\n",
      "Количество квартир: 84\n",
      " Индитификатор квартир в новостройках : 156387115\n",
      "Количество квартир: 85\n",
      " Индитификатор квартир в новостройках : 151811039\n",
      "Количество квартир: 86\n",
      " Индитификатор квартир в новостройках : 151810960\n",
      "Количество квартир: 87\n",
      " Индитификатор квартир в новостройках : 151729355\n",
      "Количество квартир: 88\n",
      " Индитификатор квартир в новостройках : 152104421\n",
      "Количество квартир: 89\n",
      " Индитификатор квартир в новостройках : 156388118\n",
      "Количество квартир: 90\n",
      " Индитификатор квартир в новостройках : 156725865\n",
      "Количество квартир: 91\n",
      " Индитификатор квартир в новостройках : 154810839\n",
      "Количество квартир: 92\n",
      " Индитификатор квартир в новостройках : 156389218\n",
      "Количество квартир: 93\n",
      " Индитификатор квартир в новостройках : 153560823\n",
      "Количество квартир: 94\n",
      " Индитификатор квартир в новостройках : 155955056\n",
      "Количество квартир: 95\n",
      " Индитификатор квартир в новостройках : 156386819\n",
      "Количество квартир: 96\n",
      " Индитификатор квартир в новостройках : 156389004\n",
      "Количество квартир: 97\n",
      " Индитификатор квартир в новостройках : 152103637\n",
      "Количество квартир: 98\n",
      " Индитификатор квартир в новостройках : 156387188\n",
      "Количество квартир: 99\n",
      " Индитификатор квартир в новостройках : 151811067\n",
      "Количество квартир: 100\n",
      " Индитификатор квартир в новостройках : 156386822\n",
      "Количество квартир: 101\n",
      " Индитификатор квартир в новостройках : 155142462\n",
      "Количество квартир: 102\n",
      " Индитификатор квартир в новостройках : 156386876\n",
      "Количество квартир: 103\n",
      " Индитификатор квартир в новостройках : 151728406\n",
      "Количество квартир: 104\n",
      " Индитификатор квартир в новостройках : 156388999\n",
      "Количество квартир: 105\n",
      " Индитификатор квартир в новостройках : 155578659\n",
      "Количество квартир: 106\n",
      " Индитификатор квартир в новостройках : 151778003\n",
      "Количество квартир: 107\n",
      " Индитификатор квартир в новостройках : 151728896\n",
      "Количество квартир: 108\n",
      " Индитификатор квартир в новостройках : 154645266\n",
      "Количество квартир: 109\n",
      " Индитификатор квартир в новостройках : 156386709\n",
      "Количество квартир: 110\n",
      " Индитификатор квартир в новостройках : 152520744\n",
      "Количество квартир: 111\n",
      " Индитификатор квартир в новостройках : 151728883\n",
      "Количество квартир: 112\n",
      " Индитификатор квартир в новостройках : 154477086\n",
      "Количество квартир: 113\n",
      " Индитификатор квартир в новостройках : 156388465\n",
      "Количество квартир: 114\n",
      " Индитификатор квартир в новостройках : 154645749\n",
      "Количество квартир: 115\n",
      " Индитификатор квартир в новостройках : 156725881\n",
      "Количество квартир: 116\n",
      " Индитификатор квартир в новостройках : 156074925\n",
      "Количество квартир: 117\n",
      " Индитификатор квартир в новостройках : 156074739\n",
      "Количество квартир: 118\n",
      " Индитификатор квартир в новостройках : 155476290\n",
      "Количество квартир: 119\n",
      " Индитификатор квартир в новостройках : 151728774\n",
      "Количество квартир: 120\n",
      " Индитификатор квартир в новостройках : 151811056\n",
      "Количество квартир: 121\n",
      " Индитификатор квартир в новостройках : 156110460\n",
      "Количество квартир: 122\n",
      " Индитификатор квартир в новостройках : 153051927\n",
      "Количество квартир: 123\n",
      " Индитификатор квартир в новостройках : 156386854\n",
      "Количество квартир: 124\n",
      " Индитификатор квартир в новостройках : 156387284\n",
      "Количество квартир: 125\n",
      " Индитификатор квартир в новостройках : 154645213\n",
      "Количество квартир: 126\n",
      " Индитификатор квартир в новостройках : 156387729\n",
      "Количество квартир: 127\n",
      " Индитификатор квартир в новостройках : 152104220\n",
      "Количество квартир: 128\n",
      " Индитификатор квартир в новостройках : 156075466\n",
      "Количество квартир: 129\n",
      " Индитификатор квартир в новостройках : 156387774\n",
      "Количество квартир: 130\n",
      " Индитификатор квартир в новостройках : 156613655\n",
      "Количество квартир: 131\n",
      " Индитификатор квартир в новостройках : 156387331\n",
      "Количество квартир: 132\n",
      " Индитификатор квартир в новостройках : 151778119\n",
      "Количество квартир: 133\n",
      " Индитификатор квартир в новостройках : 156387131\n",
      "Количество квартир: 134\n",
      " Индитификатор квартир в новостройках : 152104467\n",
      "Количество квартир: 135\n",
      " Индитификатор квартир в новостройках : 153609175\n",
      "Количество квартир: 136\n",
      " Индитификатор квартир в новостройках : 152339776\n",
      "Количество квартир: 137\n",
      " Индитификатор квартир в новостройках : 154644419\n",
      "Количество квартир: 138\n",
      " Индитификатор квартир в новостройках : 154306576\n",
      "Количество квартир: 139\n",
      " Индитификатор квартир в новостройках : 155941585\n",
      "Количество квартир: 140\n",
      " Индитификатор квартир в новостройках : 156394454\n",
      "Количество квартир: 141\n",
      " Индитификатор квартир в новостройках : 156387393\n",
      "Количество квартир: 142\n",
      " Индитификатор квартир в новостройках : 155773611\n",
      "Количество квартир: 143\n"
     ]
    }
   ],
   "source": [
    "import csv\n",
    "\n",
    "flats_list = list()\n",
    "\n",
    "with open('output.csv', newline='') as csvfile:\n",
    "\tflats_csv = csv.reader(csvfile, delimiter=';')\n",
    "\tflats_list = list(flats_csv)\n",
    "    \n",
    "new_flats = ('новостройка') \n",
    "count = 0\n",
    "header = flats_list.pop(0)\n",
    "    \n",
    "for flat in flats_list:\n",
    "    if flat[2] == new_flats:\n",
    "        count +=1\n",
    "    \n",
    "        print(\" Индитификатор квартир в новостройках : {}\".format(flat[0]))\n",
    "        print ('Количество квартир: {}'.format (count))\n"
   ]
  },
  {
   "cell_type": "markdown",
   "id": "44571577",
   "metadata": {},
   "source": [
    "### TODO 2:\n",
    "#### 1) Сделайте описание квартиры в виде словаря, а не списка. Используйте следующие поля из файла output.csv: ID, Количество комнат;Новостройка/вторичка, Цена (руб). У вас должно получиться примерно так:\n",
    "flat_info = {\"id\":flat[0], \"rooms\":flat[1], \"type\":flat[2], \"price\":flat[11]}\n",
    "#### 2) Измените код, который создавал словарь для поиска квартир по метро так, чтобы значением словаря был не список ID квартир, а список описаний квартир в виде словаря, который вы сделали в п.1 \n",
    "subway_dict = {}\n",
    "for flat in flats_list:\n",
    "  subway = flat[3].replace(\"м.\", \"\")\n",
    "  if subway not in subway_dict.keys():\n",
    "    subway_dict[subway] = list()\n",
    "  subway_dict[subway].append(flat[0])\n",
    "print(subway_dict)"
   ]
  },
  {
   "cell_type": "code",
   "execution_count": 1,
   "id": "21bf39ed",
   "metadata": {},
   "outputs": [
    {
     "ename": "KeyError",
     "evalue": "'156605497'",
     "output_type": "error",
     "traceback": [
      "\u001b[1;31m---------------------------------------------------------------------------\u001b[0m",
      "\u001b[1;31mKeyError\u001b[0m                                  Traceback (most recent call last)",
      "\u001b[1;32m~\\AppData\\Local\\Temp\\ipykernel_9620\\1237661126.py\u001b[0m in \u001b[0;36m<module>\u001b[1;34m\u001b[0m\n\u001b[0;32m     32\u001b[0m     \u001b[1;31m#flats_dict[subway].append(flat[0]) # Функция append добавляет к ключу в переменной subway значение находящееся в\u001b[0m\u001b[1;33m\u001b[0m\u001b[1;33m\u001b[0m\u001b[0m\n\u001b[0;32m     33\u001b[0m     \u001b[1;31m# циклической переменной  flat[0], где [0] это индитификатор квартир\u001b[0m\u001b[1;33m\u001b[0m\u001b[1;33m\u001b[0m\u001b[0m\n\u001b[1;32m---> 34\u001b[1;33m     \u001b[0mflat_info_dict\u001b[0m\u001b[1;33m[\u001b[0m\u001b[0mflat_info\u001b[0m\u001b[1;33m]\u001b[0m\u001b[1;33m.\u001b[0m\u001b[0mappend\u001b[0m\u001b[1;33m(\u001b[0m\u001b[0mflat\u001b[0m\u001b[1;33m[\u001b[0m\u001b[1;36m1\u001b[0m\u001b[1;33m]\u001b[0m\u001b[1;33m)\u001b[0m\u001b[1;33m\u001b[0m\u001b[1;33m\u001b[0m\u001b[0m\n\u001b[0m\u001b[0;32m     35\u001b[0m     \u001b[0mflat_info_dict\u001b[0m\u001b[1;33m[\u001b[0m\u001b[0mflat_info\u001b[0m\u001b[1;33m]\u001b[0m\u001b[1;33m.\u001b[0m\u001b[0mappend\u001b[0m\u001b[1;33m(\u001b[0m\u001b[0mflat\u001b[0m\u001b[1;33m[\u001b[0m\u001b[1;36m2\u001b[0m\u001b[1;33m]\u001b[0m\u001b[1;33m)\u001b[0m\u001b[1;33m\u001b[0m\u001b[1;33m\u001b[0m\u001b[0m\n\u001b[0;32m     36\u001b[0m     \u001b[0mflat_info_dict\u001b[0m\u001b[1;33m[\u001b[0m\u001b[0mflat_info\u001b[0m\u001b[1;33m]\u001b[0m\u001b[1;33m.\u001b[0m\u001b[0mappend\u001b[0m\u001b[1;33m(\u001b[0m\u001b[0mflat\u001b[0m\u001b[1;33m[\u001b[0m\u001b[1;36m11\u001b[0m\u001b[1;33m]\u001b[0m\u001b[1;33m)\u001b[0m\u001b[1;33m\u001b[0m\u001b[1;33m\u001b[0m\u001b[0m\n",
      "\u001b[1;31mKeyError\u001b[0m: '156605497'"
     ]
    }
   ],
   "source": [
    "from pprint import pprint \n",
    "\n",
    "import csv\n",
    "\n",
    "flats_list = list()\n",
    "\n",
    "with open('output.csv', newline='') as csvfile:\n",
    "\tflats_csv = csv.reader(csvfile, delimiter=';')\n",
    "\tflats_list = list(flats_csv)\n",
    "# Выше Блок который импортирует файл формата .csv и его открывает. \n",
    "\n",
    "count = 0\n",
    "subway_set = set()\n",
    "subway_list = list()\n",
    "header = flats_list.pop(0)\n",
    "flats_dict = dict()\n",
    "flat_info_dict = dict ()\n",
    "\n",
    "\n",
    "for flat in flats_list:\n",
    "    #subway = flat[3].replace ('м.', '')\n",
    "    #subway_set.add(subway)\n",
    "    flat_info = flat[0]\n",
    "    #flat_info_dict.add(flat_info)\n",
    "    \n",
    "   # if subway not in flats_dict.keys():   # Условие если переменная subway, содержащая станции метро, не входит в значения ключей в flats_dict.keys(), тогда первой переменой должен создаться новый пустой список []\n",
    "        #flats_dict[subway] = []\n",
    "    \n",
    "    #flats_dict.setdefault (subway, [])   # Альтернатива условию выше. Функция setdefault говорит если ключа нет, я его создам. Если ключ есть, она ни чего не делает\n",
    "    #flat_info_dict.setdefault (flat_info, [])\n",
    "        \n",
    "    #flats_dict[subway].append(flat[0]) # Функция append добавляет к ключу в переменной subway значение находящееся в\n",
    "    # циклической переменной  flat[0], где [0] это индитификатор квартир \n",
    "    flat_info_dict[flat_info].append(flat[1])\n",
    "    flat_info_dict[flat_info].append(flat[2])\n",
    "    flat_info_dict[flat_info].append(flat[11])\n",
    "    \n",
    "pprint (flat_info_dict)"
   ]
  },
  {
   "cell_type": "code",
   "execution_count": null,
   "id": "79b6d3f1",
   "metadata": {},
   "outputs": [],
   "source": []
  }
 ],
 "metadata": {
  "kernelspec": {
   "display_name": "Python 3 (ipykernel)",
   "language": "python",
   "name": "python3"
  },
  "language_info": {
   "codemirror_mode": {
    "name": "ipython",
    "version": 3
   },
   "file_extension": ".py",
   "mimetype": "text/x-python",
   "name": "python",
   "nbconvert_exporter": "python",
   "pygments_lexer": "ipython3",
   "version": "3.9.13"
  }
 },
 "nbformat": 4,
 "nbformat_minor": 5
}
