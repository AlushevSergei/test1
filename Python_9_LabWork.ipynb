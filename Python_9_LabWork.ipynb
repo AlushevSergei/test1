{
 "cells": [
  {
   "cell_type": "markdown",
   "id": "5f23341a",
   "metadata": {},
   "source": [
    "# Лабораторная работа по модулю “Python для анализа данных”\n"
   ]
  },
  {
   "cell_type": "markdown",
   "id": "a93ed032",
   "metadata": {},
   "source": [
    "#### Списки и строки – одни из важных начальных понятий для любого дата сайентиста, поскольку на знании принципов работы с ними строится работа с препроцессингом и обработкой данных в python в целом и работы с модулем pandas в частности:\n"
   ]
  },
  {
   "cell_type": "markdown",
   "id": "e439990a",
   "metadata": {},
   "source": [
    "#### 1.1 Дан произвольный список, содержащий только числа. Выведите результат сложения всех чисел больше 10. "
   ]
  },
  {
   "cell_type": "code",
   "execution_count": 1,
   "id": "9536d867",
   "metadata": {},
   "outputs": [
    {
     "name": "stdout",
     "output_type": "stream",
     "text": [
      "380\n"
     ]
    }
   ],
   "source": [
    "list_1 = range(1, 30)#[2, 45, 15, 23,]\n",
    "total=0\n",
    "for i in list_1:\n",
    "    if i>10:\n",
    "        total+=i\n",
    "print (total)\n",
    "\n"
   ]
  },
  {
   "cell_type": "markdown",
   "id": "d6b63388",
   "metadata": {},
   "source": [
    "#### 1.2 Пусть задан список, содержащий строки. Выведите все строки, заканчивающиеся буквой r"
   ]
  },
  {
   "cell_type": "code",
   "execution_count": 2,
   "id": "908ff619",
   "metadata": {},
   "outputs": [],
   "source": [
    "list_str = ['ler', 'dog', 'war','rom','docter']"
   ]
  },
  {
   "cell_type": "code",
   "execution_count": 3,
   "id": "c86f36f5",
   "metadata": {},
   "outputs": [
    {
     "name": "stdout",
     "output_type": "stream",
     "text": [
      "ler\n",
      "war\n",
      "rom\n",
      "docter\n"
     ]
    }
   ],
   "source": [
    "for el in list_str:\n",
    "    for i in el:\n",
    "        if i[-1]=='r':\n",
    "            print(el)\n",
    "    #print(el)\n",
    "    "
   ]
  },
  {
   "cell_type": "code",
   "execution_count": 4,
   "id": "d3658714",
   "metadata": {},
   "outputs": [
    {
     "name": "stdout",
     "output_type": "stream",
     "text": [
      "ler\n",
      "war\n",
      "docter\n"
     ]
    }
   ],
   "source": [
    "for el in list_str:\n",
    "    if el[-1]=='r':\n",
    "        print(el)"
   ]
  },
  {
   "cell_type": "markdown",
   "id": "978513b4",
   "metadata": {},
   "source": [
    "#### 1. 3 Сгенерируйте и выведите cлучайную строку размером 6 символов, содержащую только цифры. Строка должна содержать хотя бы одну цифру 3. "
   ]
  },
  {
   "cell_type": "code",
   "execution_count": 5,
   "id": "267978e8",
   "metadata": {},
   "outputs": [],
   "source": [
    "import random\n",
    "import string\n",
    "def generate_random_string(length):\n",
    "    letters = '12345645678967899'\n",
    "    rand_string = ''.join(random.choice(letters) for i in range(length))\n",
    "    print(rand_string)"
   ]
  },
  {
   "cell_type": "code",
   "execution_count": null,
   "id": "7289e939",
   "metadata": {},
   "outputs": [],
   "source": []
  },
  {
   "cell_type": "code",
   "execution_count": 6,
   "id": "69d182ff",
   "metadata": {},
   "outputs": [],
   "source": [
    "import random"
   ]
  },
  {
   "cell_type": "code",
   "execution_count": 7,
   "id": "bb65c86b",
   "metadata": {},
   "outputs": [
    {
     "name": "stdout",
     "output_type": "stream",
     "text": [
      "201831\n"
     ]
    }
   ],
   "source": [
    "# генератор целых чисел с заданым диапозоном\n",
    "number_rondoom = random.randint(0, 1000000)\n",
    "print (number_rondoom)\n"
   ]
  },
  {
   "cell_type": "code",
   "execution_count": 8,
   "id": "0273788a",
   "metadata": {},
   "outputs": [
    {
     "name": "stdout",
     "output_type": "stream",
     "text": [
      "543882\n"
     ]
    }
   ],
   "source": [
    "number = 0\n",
    "while '3' not in str(number):\n",
    "    number = random.randint(0, 1000000)\n",
    "    print (number)"
   ]
  },
  {
   "cell_type": "markdown",
   "id": "3fe74352",
   "metadata": {},
   "source": [
    "#### 1.4 Пусть дана строка произвольной длины. Выведите информацию о том, сколько в ней символов и сколько слов"
   ]
  },
  {
   "cell_type": "code",
   "execution_count": 9,
   "id": "697e3e84",
   "metadata": {},
   "outputs": [
    {
     "name": "stdout",
     "output_type": "stream",
     "text": [
      "4 47\n"
     ]
    }
   ],
   "source": [
    "str_1 = ['peirjuf,v', 'wepkdkds', 'sdfdsfsdfsdfds', 'trdfdgdgdfgdfgdh']\n",
    "sum_el=0\n",
    "sum_str=0\n",
    "for el in str_1:\n",
    "    sum_el +=len(el)\n",
    "    sum_str+=1\n",
    "print (sum_str, sum_el)\n",
    "    "
   ]
  },
  {
   "cell_type": "markdown",
   "id": "d4eed57d",
   "metadata": {},
   "source": [
    "### Матрицы-следующее за списками и строками важное понятие. Широко используется в линейной алгебре. Находит своеприменение в современных рекомендательных системах и архитектуре нейронных сетей:\n",
    "##### 2.1 Пусть дана матрица чисел размером NхN. Представьте данную матрицу в виде списка. Выведите результат сложения всех элементов матрицы."
   ]
  },
  {
   "cell_type": "code",
   "execution_count": 10,
   "id": "ae1ca19c",
   "metadata": {},
   "outputs": [],
   "source": [
    "import numpy as np"
   ]
  },
  {
   "cell_type": "code",
   "execution_count": 11,
   "id": "6346998f",
   "metadata": {},
   "outputs": [
    {
     "name": "stdout",
     "output_type": "stream",
     "text": [
      "45\n"
     ]
    }
   ],
   "source": [
    "matrix = [\n",
    "    [1, 2, 3],\n",
    "    [4, 5, 6],\n",
    "    [7, 8, 9]\n",
    "]\n",
    "print (np.sum(matrix))"
   ]
  },
  {
   "cell_type": "markdown",
   "id": "901d6e8c",
   "metadata": {},
   "source": [
    "#### 2.2 Дана матрица размером NxM. Напишите алгоритм вычисления максимума из сумм элементов каждого столбца"
   ]
  },
  {
   "cell_type": "code",
   "execution_count": 12,
   "id": "d88c951f",
   "metadata": {},
   "outputs": [],
   "source": [
    "matrix = [\n",
    "    [1, 2, 3, 9],\n",
    "    [4, 5, 6, 8],\n",
    "    [7, 8, 9, 3]\n",
    "]"
   ]
  },
  {
   "cell_type": "code",
   "execution_count": 13,
   "id": "eeae8f3f",
   "metadata": {},
   "outputs": [
    {
     "data": {
      "text/plain": [
       "65"
      ]
     },
     "execution_count": 13,
     "metadata": {},
     "output_type": "execute_result"
    }
   ],
   "source": [
    "np.sum(matrix) #Считает сумму всей матрицы"
   ]
  },
  {
   "cell_type": "code",
   "execution_count": 14,
   "id": "c2da07d1",
   "metadata": {},
   "outputs": [
    {
     "data": {
      "text/plain": [
       "array([12, 15, 18, 20])"
      ]
     },
     "execution_count": 14,
     "metadata": {},
     "output_type": "execute_result"
    }
   ],
   "source": [
    "np.sum(matrix, axis=0) #Считает сумму столбцов матрицы"
   ]
  },
  {
   "cell_type": "code",
   "execution_count": 15,
   "id": "06b738f0",
   "metadata": {},
   "outputs": [
    {
     "data": {
      "text/plain": [
       "array([15, 23, 27])"
      ]
     },
     "execution_count": 15,
     "metadata": {},
     "output_type": "execute_result"
    }
   ],
   "source": [
    "np.sum(matrix, axis=1) #Считает сумму строк матрицы"
   ]
  },
  {
   "cell_type": "code",
   "execution_count": 16,
   "id": "5bcc04b3",
   "metadata": {},
   "outputs": [
    {
     "data": {
      "text/plain": [
       "20"
      ]
     },
     "execution_count": 16,
     "metadata": {},
     "output_type": "execute_result"
    }
   ],
   "source": [
    "max(np.sum(matrix, axis=0))"
   ]
  },
  {
   "cell_type": "markdown",
   "id": "8c8ba23d",
   "metadata": {},
   "source": [
    "### Работа с динамичными структурами важная часть в имплементации вашего кода в продакшн систему:\n",
    "#### 3.1 Пусть список студентов представлен в виде структуры [[No, ФИО, Возраст,Группа],[No, ФИО, Возраст, Группа],[No, ФИО, Возраст, Группа]].\n",
    "#### Преобразуйте список в словарь вида: {No: [ФИО, Возраст, Группа], No:[....], No: [....]}"
   ]
  },
  {
   "cell_type": "code",
   "execution_count": 1,
   "id": "e3531092",
   "metadata": {},
   "outputs": [
    {
     "name": "stdout",
     "output_type": "stream",
     "text": [
      "{1: ['Ivanov', 22, 'C-PDA'], 2: ['Petrov', 20, 'B-PDA'], 3: ['Sidorov', 21, 'A-PDA']}\n"
     ]
    }
   ],
   "source": [
    "data = [\n",
    "    [1, 'Ivanov', 22, 'C-PDA'],\n",
    "    [2, 'Petrov', 20, 'B-PDA'],\n",
    "    [3, 'Sidorov', 21, 'A-PDA']\n",
    "]\n",
    "\n",
    "Data_dict = dict()\n",
    "\n",
    "for item in data:\n",
    "    Data_dict[item[0]]= item[1:]\n",
    "print(Data_dict)\n",
    "    "
   ]
  },
  {
   "cell_type": "markdown",
   "id": "a904fdfe",
   "metadata": {},
   "source": [
    "#### 3.2 Напишите алгоритм, позволяющий найти запись в словаре из задачи 3.1 (без преобразования словаря обратно в список) по фамилии и изменить в ней номер группы. Фамилию и новый номер группы необходимо ввести с клавиатуры."
   ]
  },
  {
   "cell_type": "code",
   "execution_count": 3,
   "id": "0ec555f5",
   "metadata": {},
   "outputs": [
    {
     "name": "stdout",
     "output_type": "stream",
     "text": [
      "Введите фамилию студента: AlushevaO\n",
      "Введите новую группу:   NeftAvto\n",
      "Введите возраст:  46\n",
      "{1: ['Ivanov', 22, 'C-PDA'], 2: ['Petrov', 20, 'B-PDA'], 3: ['Sidorov', 21, 'A-PDA'], 4: ['Alushev', '46', 'SuperProg']}\n",
      "Введите возраст:  47\n",
      "{1: ['Ivanov', 22, 'C-PDA'], 2: ['Petrov', 20, 'B-PDA'], 3: ['Sidorov', 21, 'A-PDA'], 4: ['Alushev', '46', 'SuperProg'], 5: ['AlushevaO', '47', 'NeftAvto']}\n"
     ]
    },
    {
     "ename": "RuntimeError",
     "evalue": "dictionary changed size during iteration",
     "output_type": "error",
     "traceback": [
      "\u001b[1;31m---------------------------------------------------------------------------\u001b[0m",
      "\u001b[1;31mRuntimeError\u001b[0m                              Traceback (most recent call last)",
      "\u001b[1;32m~\\AppData\\Local\\Temp\\ipykernel_1804\\3710155192.py\u001b[0m in \u001b[0;36m<module>\u001b[1;34m\u001b[0m\n\u001b[0;32m      2\u001b[0m \u001b[0mnew_group\u001b[0m \u001b[1;33m=\u001b[0m \u001b[0minput\u001b[0m \u001b[1;33m(\u001b[0m\u001b[1;34m'Введите новую группу:   '\u001b[0m\u001b[1;33m)\u001b[0m\u001b[1;33m\u001b[0m\u001b[1;33m\u001b[0m\u001b[0m\n\u001b[0;32m      3\u001b[0m \u001b[0mnumber\u001b[0m\u001b[1;33m=\u001b[0m\u001b[1;36m3\u001b[0m\u001b[1;33m\u001b[0m\u001b[1;33m\u001b[0m\u001b[0m\n\u001b[1;32m----> 4\u001b[1;33m \u001b[1;32mfor\u001b[0m \u001b[0mitem\u001b[0m \u001b[1;32min\u001b[0m \u001b[0mData_dict\u001b[0m\u001b[1;33m.\u001b[0m\u001b[0mvalues\u001b[0m\u001b[1;33m(\u001b[0m\u001b[1;33m)\u001b[0m\u001b[1;33m:\u001b[0m\u001b[1;33m\u001b[0m\u001b[1;33m\u001b[0m\u001b[0m\n\u001b[0m\u001b[0;32m      5\u001b[0m     \u001b[0mnumber\u001b[0m\u001b[1;33m+=\u001b[0m\u001b[1;36m1\u001b[0m\u001b[1;33m\u001b[0m\u001b[1;33m\u001b[0m\u001b[0m\n\u001b[0;32m      6\u001b[0m     \u001b[1;32mif\u001b[0m \u001b[0mstudent\u001b[0m \u001b[1;32min\u001b[0m \u001b[0mitem\u001b[0m\u001b[1;33m:\u001b[0m\u001b[1;33m\u001b[0m\u001b[1;33m\u001b[0m\u001b[0m\n",
      "\u001b[1;31mRuntimeError\u001b[0m: dictionary changed size during iteration"
     ]
    }
   ],
   "source": [
    "student = input ('Введите фамилию студента: ')\n",
    "new_group = input ('Введите новую группу:   ')\n",
    "number=3\n",
    "for item in Data_dict.values():\n",
    "    number+=1\n",
    "    if student in item:\n",
    "        item[2] = new_group\n",
    "    else:\n",
    "        ago= input ('Введите возраст:  ')\n",
    "        new_student=Data_dict.setdefault (number, [student, ago, new_group ])\n",
    "    print (Data_dict)\n",
    "    \n",
    "        \n",
    "    "
   ]
  },
  {
   "cell_type": "code",
   "execution_count": null,
   "id": "b5f489da",
   "metadata": {},
   "outputs": [],
   "source": []
  },
  {
   "cell_type": "code",
   "execution_count": null,
   "id": "255c03e5",
   "metadata": {},
   "outputs": [],
   "source": []
  }
 ],
 "metadata": {
  "kernelspec": {
   "display_name": "Python 3 (ipykernel)",
   "language": "python",
   "name": "python3"
  },
  "language_info": {
   "codemirror_mode": {
    "name": "ipython",
    "version": 3
   },
   "file_extension": ".py",
   "mimetype": "text/x-python",
   "name": "python",
   "nbconvert_exporter": "python",
   "pygments_lexer": "ipython3",
   "version": "3.9.13"
  }
 },
 "nbformat": 4,
 "nbformat_minor": 5
}
