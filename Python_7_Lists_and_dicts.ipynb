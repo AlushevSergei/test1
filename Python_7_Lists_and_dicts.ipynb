{
 "cells": [
  {
   "cell_type": "markdown",
   "metadata": {},
   "source": [
    "# Проход по вложенным спискам и словарям"
   ]
  },
  {
   "cell_type": "markdown",
   "metadata": {},
   "source": [
    "### Перебор элементов списка и словаря"
   ]
  },
  {
   "cell_type": "code",
   "execution_count": 1,
   "metadata": {},
   "outputs": [],
   "source": [
    "numbers = [1, 1, 2, 3, 5, 8, 13, 21, 34, 55, 89]"
   ]
  },
  {
   "cell_type": "code",
   "execution_count": 2,
   "metadata": {},
   "outputs": [
    {
     "name": "stdout",
     "output_type": "stream",
     "text": [
      "1\n",
      "1\n",
      "4\n",
      "9\n",
      "25\n",
      "64\n",
      "169\n",
      "441\n",
      "1156\n",
      "3025\n",
      "7921\n"
     ]
    }
   ],
   "source": [
    "for number in numbers:\n",
    "    new_number = number ** 2\n",
    "    print(new_number)"
   ]
  },
  {
   "cell_type": "code",
   "execution_count": 3,
   "metadata": {},
   "outputs": [],
   "source": [
    "record = {'date': '2019-03-05', 'payment_type': 'SALARY', 'status': 'SUCCESS'}"
   ]
  },
  {
   "cell_type": "code",
   "execution_count": 4,
   "metadata": {},
   "outputs": [
    {
     "name": "stdout",
     "output_type": "stream",
     "text": [
      "date\n",
      "payment_type\n",
      "status\n"
     ]
    }
   ],
   "source": [
    "# проход по ключам\n",
    "# можно и так: record.keys()\n",
    "\n",
    "for key in record:\n",
    "    print(key)"
   ]
  },
  {
   "cell_type": "code",
   "execution_count": 5,
   "metadata": {},
   "outputs": [
    {
     "name": "stdout",
     "output_type": "stream",
     "text": [
      "2019-03-05\n",
      "SALARY\n",
      "SUCCESS\n"
     ]
    }
   ],
   "source": [
    "# проход по значениям:\n",
    "for value in record.values():\n",
    "    print(value)"
   ]
  },
  {
   "cell_type": "code",
   "execution_count": 6,
   "metadata": {},
   "outputs": [
    {
     "name": "stdout",
     "output_type": "stream",
     "text": [
      "date 2019-03-05\n",
      "payment_type SALARY\n",
      "status SUCCESS\n"
     ]
    }
   ],
   "source": [
    "for key, value in record.items():\n",
    "    print(key, value)"
   ]
  },
  {
   "cell_type": "markdown",
   "metadata": {},
   "source": [
    "### Вложенные структуры"
   ]
  },
  {
   "cell_type": "markdown",
   "metadata": {},
   "source": [
    "**Список словарей**\n",
    "\n",
    "Надо достать значения статусов"
   ]
  },
  {
   "cell_type": "code",
   "execution_count": 7,
   "metadata": {},
   "outputs": [],
   "source": [
    "records = [\n",
    "    {'date': '2019-03-05', 'payment_type': 'SALARY', 'status': 'SUCCESS'},\n",
    "    {'date': '2019-03-20', 'payment_type': 'PREPAYMENT', 'status': 'SUCCESS'},\n",
    "    {'date': '2019-04-05', 'payment_type': 'SALARY', 'status': 'PENDING'},\n",
    "    {'date': '2019-04-20', 'payment_type': 'PREPAYMENT', 'status': 'PENDING'},\n",
    "]"
   ]
  },
  {
   "cell_type": "code",
   "execution_count": 11,
   "metadata": {},
   "outputs": [
    {
     "name": "stdout",
     "output_type": "stream",
     "text": [
      "SUCCESS\n",
      "SUCCESS\n",
      "PENDING\n",
      "PENDING\n"
     ]
    }
   ],
   "source": [
    "for record in records:\n",
    "    print(record['status'])"
   ]
  },
  {
   "cell_type": "markdown",
   "metadata": {},
   "source": [
    "**Словарь со списками**\n",
    "\n",
    "Проверяем есть ли хотя бы в одной транзакции статус ERROR"
   ]
  },
  {
   "cell_type": "code",
   "execution_count": 17,
   "metadata": {},
   "outputs": [],
   "source": [
    "record = {\n",
    "    'date': '2019-03-21',\n",
    "    'transactions': [\n",
    "        {'date': '2019-03-05', 'payment_type': 'SALARY', 'status': 'ERROR'},\n",
    "        {'date': '2019-03-20', 'payment_type': 'PREPAYMENT', 'status': 'SUCCESS'},\n",
    "        {'date': '2019-04-05', 'payment_type': 'SALARY', 'status': 'ERROR'},\n",
    "        {'date': '2019-04-20', 'payment_type': 'PREPAYMENT', 'status': 'PENDING'},\n",
    "    ]\n",
    "}"
   ]
  },
  {
   "cell_type": "markdown",
   "metadata": {},
   "source": [
    "#### Разбираем словарь на этапы"
   ]
  },
  {
   "cell_type": "code",
   "execution_count": 18,
   "metadata": {},
   "outputs": [
    {
     "data": {
      "text/plain": [
       "dict"
      ]
     },
     "execution_count": 18,
     "metadata": {},
     "output_type": "execute_result"
    }
   ],
   "source": [
    "type (record) "
   ]
  },
  {
   "cell_type": "code",
   "execution_count": 19,
   "metadata": {},
   "outputs": [
    {
     "data": {
      "text/plain": [
       "dict_keys(['date', 'transactions'])"
      ]
     },
     "execution_count": 19,
     "metadata": {},
     "output_type": "execute_result"
    }
   ],
   "source": [
    "record.keys()"
   ]
  },
  {
   "cell_type": "code",
   "execution_count": 20,
   "metadata": {},
   "outputs": [
    {
     "data": {
      "text/plain": [
       "[{'date': '2019-03-05', 'payment_type': 'SALARY', 'status': 'ERROR'},\n",
       " {'date': '2019-03-20', 'payment_type': 'PREPAYMENT', 'status': 'SUCCESS'},\n",
       " {'date': '2019-04-05', 'payment_type': 'SALARY', 'status': 'ERROR'},\n",
       " {'date': '2019-04-20', 'payment_type': 'PREPAYMENT', 'status': 'PENDING'}]"
      ]
     },
     "execution_count": 20,
     "metadata": {},
     "output_type": "execute_result"
    }
   ],
   "source": [
    "record['transactions']"
   ]
  },
  {
   "cell_type": "code",
   "execution_count": null,
   "metadata": {},
   "outputs": [],
   "source": []
  },
  {
   "cell_type": "code",
   "execution_count": 22,
   "metadata": {},
   "outputs": [
    {
     "name": "stdout",
     "output_type": "stream",
     "text": [
      "{'date': '2019-03-05', 'payment_type': 'SALARY', 'status': 'ERROR'}\n",
      "{'date': '2019-03-20', 'payment_type': 'PREPAYMENT', 'status': 'SUCCESS'}\n",
      "{'date': '2019-04-05', 'payment_type': 'SALARY', 'status': 'ERROR'}\n",
      "{'date': '2019-04-20', 'payment_type': 'PREPAYMENT', 'status': 'PENDING'}\n"
     ]
    }
   ],
   "source": [
    "for key in record['transactions']:\n",
    "    print(key)"
   ]
  },
  {
   "cell_type": "code",
   "execution_count": 23,
   "metadata": {},
   "outputs": [
    {
     "data": {
      "text/plain": [
       "[{'date': '2019-03-05', 'payment_type': 'SALARY', 'status': 'ERROR'},\n",
       " {'date': '2019-03-20', 'payment_type': 'PREPAYMENT', 'status': 'SUCCESS'},\n",
       " {'date': '2019-04-05', 'payment_type': 'SALARY', 'status': 'ERROR'},\n",
       " {'date': '2019-04-20', 'payment_type': 'PREPAYMENT', 'status': 'PENDING'}]"
      ]
     },
     "execution_count": 23,
     "metadata": {},
     "output_type": "execute_result"
    }
   ],
   "source": [
    "record['transactions']"
   ]
  },
  {
   "cell_type": "code",
   "execution_count": 24,
   "metadata": {},
   "outputs": [
    {
     "name": "stdout",
     "output_type": "stream",
     "text": [
      "{'date': '2019-03-05', 'payment_type': 'SALARY', 'status': 'ERROR'}\n",
      "{'date': '2019-04-05', 'payment_type': 'SALARY', 'status': 'ERROR'}\n"
     ]
    }
   ],
   "source": [
    "for transaction in record['transactions']:\n",
    "    if 'ERROR' in transaction['status']:\n",
    "        print(transaction)"
   ]
  },
  {
   "cell_type": "code",
   "execution_count": 25,
   "metadata": {},
   "outputs": [
    {
     "name": "stdout",
     "output_type": "stream",
     "text": [
      "Ошибка в транзакции {'date': '2019-03-05', 'payment_type': 'SALARY', 'status': 'ERROR'}\n",
      "Ошибка в транзакции {'date': '2019-04-05', 'payment_type': 'SALARY', 'status': 'ERROR'}\n"
     ]
    }
   ],
   "source": [
    "for transaction in record['transactions']:\n",
    "    if transaction['status'] == 'ERROR':\n",
    "        print('Ошибка в транзакции {}'.format(transaction))"
   ]
  },
  {
   "cell_type": "markdown",
   "metadata": {},
   "source": [
    "### Словарь из ДЗ\n",
    "Посчитать разницу между Value (курс текущего дня)  и Previous(курс следущего дня)"
   ]
  },
  {
   "cell_type": "code",
   "execution_count": 1,
   "metadata": {},
   "outputs": [],
   "source": [
    "data = {\n",
    "    'AMD': {\n",
    "        'CharCode': 'AMD',\n",
    "        'ID': 'R01060',\n",
    "        'Name': 'Армянских драмов',\n",
    "        'Nominal': 100,\n",
    "        'NumCode': '051',\n",
    "        'Previous': 13.2237,\n",
    "        'Value': 13.121\n",
    "    },\n",
    "    \n",
    "    'AUD': {\n",
    "        'CharCode': 'AUD',\n",
    "        'ID': 'R01010',\n",
    "        'Name': 'Австралийский доллар',\n",
    "        'Nominal': 1,\n",
    "        'NumCode': '036',\n",
    "        'Previous': 45.5619,\n",
    "        'Value': 45.5309\n",
    "    },\n",
    "    \n",
    "    'AZN': {\n",
    "        'CharCode': 'AZN',\n",
    "        'ID': 'R01020A',\n",
    "        'Name': 'Азербайджанский манат',\n",
    "        'Nominal': 1,\n",
    "        'NumCode': '944',\n",
    "        'Previous': 37.8899,\n",
    "        'Value': 37.5726\n",
    "    },\n",
    "    \n",
    "    'BGN': {\n",
    "        'CharCode': 'BGN',\n",
    "        'ID': 'R01100',\n",
    "        'Name': 'Болгарский лев',\n",
    "        'Nominal': 1,\n",
    "        'NumCode': '975',\n",
    "        'Previous': 37.2812,\n",
    "        'Value': 37.137\n",
    "    },\n",
    "}"
   ]
  },
  {
   "cell_type": "code",
   "execution_count": 2,
   "metadata": {},
   "outputs": [
    {
     "data": {
      "text/plain": [
       "dict_keys(['AMD', 'AUD', 'AZN', 'BGN'])"
      ]
     },
     "execution_count": 2,
     "metadata": {},
     "output_type": "execute_result"
    }
   ],
   "source": [
    "data.keys()"
   ]
  },
  {
   "cell_type": "code",
   "execution_count": 15,
   "metadata": {},
   "outputs": [
    {
     "name": "stdout",
     "output_type": "stream",
     "text": [
      "Армянских драмов -0.10269999999999868\n",
      "Австралийский доллар -0.030999999999998806\n",
      "Азербайджанский манат -0.3172999999999959\n",
      "Болгарский лев -0.14419999999999789\n"
     ]
    }
   ],
   "source": [
    "for currency, currency_info in data.items():\n",
    "    today_rate = currency_info['Value']\n",
    "    yesterday_rate = currency_info['Previous']\n",
    "    print(currency_info['Name'],today_rate -yesterday_rate)\n",
    "    "
   ]
  },
  {
   "cell_type": "code",
   "execution_count": null,
   "metadata": {},
   "outputs": [],
   "source": [
    "for currency, currency_info in data.items():\n",
    "    today_rate = currency_info['Value']\n",
    "    yesterday_rate = currency_info['Previous']\n",
    "    \n",
    "    print(currency, today_rate - yesterday_rate)"
   ]
  },
  {
   "cell_type": "code",
   "execution_count": null,
   "metadata": {},
   "outputs": [],
   "source": []
  },
  {
   "cell_type": "markdown",
   "metadata": {},
   "source": [
    "### Сложный вложенный JSON\n",
    "Какая кампания принесла больше визитов?"
   ]
  },
  {
   "cell_type": "code",
   "execution_count": 17,
   "metadata": {},
   "outputs": [],
   "source": [
    "api_response = {\n",
    "    'time': '2019-03-21Z18:13:52',\n",
    "    'reports': [\n",
    "        {\n",
    "            'created': '2019-03-21Z06:37:18',\n",
    "            'name': 'yandex performance',\n",
    "            'data': {\n",
    "                'dimensions': ['date', 'source', 'campaign'],\n",
    "                'metrics': ['visits', 'users', 'bounce rate'],\n",
    "                'table': [\n",
    "                    ['2019-01-01', 'yandex', 'promo', 31421, 28193, 23.32],\n",
    "                    ['2019-01-02', 'yandex', 'promo', 48213, 42439, 25.53],\n",
    "                    ['2019-01-03', 'yandex', 'promo', 54804, 49853, 29.90],\n",
    "                    ['2019-01-04', 'yandex', 'promo', 38422, 31940, 26.69],\n",
    "                    ['2019-01-05', 'yandex', 'promo', 74849, 69034, 20.11],\n",
    "                ]\n",
    "            }\n",
    "        },\n",
    "        \n",
    "        {\n",
    "            'created': '2019-03-21Z07:02:59',\n",
    "            'name': 'google performance',\n",
    "            'data': {\n",
    "                'dimensions': ['date', 'source', 'campaign'],\n",
    "                'metrics': ['visits', 'users', 'bounce rate'],\n",
    "                'table': [\n",
    "                    ['2019-01-01', 'google', 'email', 9426, 9102, 16.53],\n",
    "                    ['2019-01-02', 'google', 'email', 10432, 10323, 19.54],\n",
    "                    ['2019-01-03', 'google', 'email', 5965, 5869, 18.32],\n",
    "                    ['2019-01-04', 'google', 'email', 9685, 9405, 21.32],\n",
    "                    ['2019-01-05', 'google', 'email', 5093, 4899, 17.38],\n",
    "                ]\n",
    "            }\n",
    "        }\n",
    "    ]\n",
    "}"
   ]
  },
  {
   "cell_type": "code",
   "execution_count": 20,
   "metadata": {},
   "outputs": [],
   "source": [
    "from pprint import pprint # Импортируем библиотеку для внешнего вида "
   ]
  },
  {
   "cell_type": "code",
   "execution_count": 18,
   "metadata": {},
   "outputs": [
    {
     "data": {
      "text/plain": [
       "dict"
      ]
     },
     "execution_count": 18,
     "metadata": {},
     "output_type": "execute_result"
    }
   ],
   "source": [
    "type (api_response) #Уточняем тип"
   ]
  },
  {
   "cell_type": "code",
   "execution_count": 19,
   "metadata": {},
   "outputs": [
    {
     "data": {
      "text/plain": [
       "dict_keys(['time', 'reports'])"
      ]
     },
     "execution_count": 19,
     "metadata": {},
     "output_type": "execute_result"
    }
   ],
   "source": [
    "api_response.keys() #Уточняем ключи"
   ]
  },
  {
   "cell_type": "code",
   "execution_count": 22,
   "metadata": {},
   "outputs": [
    {
     "name": "stdout",
     "output_type": "stream",
     "text": [
      "[{'created': '2019-03-21Z06:37:18',\n",
      "  'data': {'dimensions': ['date', 'source', 'campaign'],\n",
      "           'metrics': ['visits', 'users', 'bounce rate'],\n",
      "           'table': [['2019-01-01', 'yandex', 'promo', 31421, 28193, 23.32],\n",
      "                     ['2019-01-02', 'yandex', 'promo', 48213, 42439, 25.53],\n",
      "                     ['2019-01-03', 'yandex', 'promo', 54804, 49853, 29.9],\n",
      "                     ['2019-01-04', 'yandex', 'promo', 38422, 31940, 26.69],\n",
      "                     ['2019-01-05', 'yandex', 'promo', 74849, 69034, 20.11]]},\n",
      "  'name': 'yandex performance'},\n",
      " {'created': '2019-03-21Z07:02:59',\n",
      "  'data': {'dimensions': ['date', 'source', 'campaign'],\n",
      "           'metrics': ['visits', 'users', 'bounce rate'],\n",
      "           'table': [['2019-01-01', 'google', 'email', 9426, 9102, 16.53],\n",
      "                     ['2019-01-02', 'google', 'email', 10432, 10323, 19.54],\n",
      "                     ['2019-01-03', 'google', 'email', 5965, 5869, 18.32],\n",
      "                     ['2019-01-04', 'google', 'email', 9685, 9405, 21.32],\n",
      "                     ['2019-01-05', 'google', 'email', 5093, 4899, 17.38]]},\n",
      "  'name': 'google performance'}]\n"
     ]
    }
   ],
   "source": [
    "pprint (api_response['reports'])"
   ]
  },
  {
   "cell_type": "code",
   "execution_count": 30,
   "metadata": {},
   "outputs": [
    {
     "name": "stdout",
     "output_type": "stream",
     "text": [
      "dict_keys(['created', 'name', 'data'])\n"
     ]
    }
   ],
   "source": [
    "for report in api_response['reports']: # Смотрим что в ключе 'reports'\n",
    "    pprint (report.keys()) # Посмотрим какие ключи есть\n",
    "    break"
   ]
  },
  {
   "cell_type": "code",
   "execution_count": 33,
   "metadata": {},
   "outputs": [
    {
     "name": "stdout",
     "output_type": "stream",
     "text": [
      "{'dimensions': ['date', 'source', 'campaign'],\n",
      " 'metrics': ['visits', 'users', 'bounce rate'],\n",
      " 'table': [['2019-01-01', 'yandex', 'promo', 31421, 28193, 23.32],\n",
      "           ['2019-01-02', 'yandex', 'promo', 48213, 42439, 25.53],\n",
      "           ['2019-01-03', 'yandex', 'promo', 54804, 49853, 29.9],\n",
      "           ['2019-01-04', 'yandex', 'promo', 38422, 31940, 26.69],\n",
      "           ['2019-01-05', 'yandex', 'promo', 74849, 69034, 20.11]]}\n"
     ]
    }
   ],
   "source": [
    "for report in api_response['reports']: \n",
    "    pprint (report['data']) # Посмотрим какие ключи есть\n",
    "    break"
   ]
  },
  {
   "cell_type": "code",
   "execution_count": 34,
   "metadata": {},
   "outputs": [
    {
     "name": "stdout",
     "output_type": "stream",
     "text": [
      "[['2019-01-01', 'yandex', 'promo', 31421, 28193, 23.32],\n",
      " ['2019-01-02', 'yandex', 'promo', 48213, 42439, 25.53],\n",
      " ['2019-01-03', 'yandex', 'promo', 54804, 49853, 29.9],\n",
      " ['2019-01-04', 'yandex', 'promo', 38422, 31940, 26.69],\n",
      " ['2019-01-05', 'yandex', 'promo', 74849, 69034, 20.11]]\n"
     ]
    }
   ],
   "source": [
    "for report in api_response['reports']: \n",
    "    pprint (report['data']['table']) # Выводим значения ключа 'table'\n",
    "    break"
   ]
  },
  {
   "cell_type": "code",
   "execution_count": 38,
   "metadata": {},
   "outputs": [
    {
     "name": "stdout",
     "output_type": "stream",
     "text": [
      "[['2019-01-01', 'yandex', 'promo', 31421, 28193, 23.32],\n",
      " ['2019-01-02', 'yandex', 'promo', 48213, 42439, 25.53],\n",
      " ['2019-01-03', 'yandex', 'promo', 54804, 49853, 29.9],\n",
      " ['2019-01-04', 'yandex', 'promo', 38422, 31940, 26.69],\n",
      " ['2019-01-05', 'yandex', 'promo', 74849, 69034, 20.11]]\n"
     ]
    }
   ],
   "source": [
    "for report in api_response['reports']: \n",
    "    pprint (report['data']['table']) # Выводим значения ключа 'table'\n",
    "    break"
   ]
  },
  {
   "cell_type": "code",
   "execution_count": 39,
   "metadata": {},
   "outputs": [
    {
     "name": "stdout",
     "output_type": "stream",
     "text": [
      "['2019-01-01', 'yandex', 'promo', 31421, 28193, 23.32]\n",
      "['2019-01-02', 'yandex', 'promo', 48213, 42439, 25.53]\n",
      "['2019-01-03', 'yandex', 'promo', 54804, 49853, 29.9]\n",
      "['2019-01-04', 'yandex', 'promo', 38422, 31940, 26.69]\n",
      "['2019-01-05', 'yandex', 'promo', 74849, 69034, 20.11]\n"
     ]
    }
   ],
   "source": [
    "for report in api_response['reports']: \n",
    "    #pprint (report['data']['table']) \n",
    "    for line in report['data']['table']:# Пробегаем (разбиваем на элементы списка) по элементам списка \n",
    "        print (line)\n",
    "    \n",
    "    break"
   ]
  },
  {
   "cell_type": "code",
   "execution_count": 37,
   "metadata": {},
   "outputs": [
    {
     "name": "stdout",
     "output_type": "stream",
     "text": [
      "yandex 31421\n",
      "yandex 48213\n",
      "yandex 54804\n",
      "yandex 38422\n",
      "yandex 74849\n"
     ]
    }
   ],
   "source": [
    "for report in api_response['reports']: \n",
    "    #pprint (report['data']['table']) # Выводим значения ключа 'table'\n",
    "    for line in report['data']['table']:\n",
    "        compaing = line[1] # Фильтруем список по элементам line[1] и line[3]\n",
    "        visits = line [3] #Фильтруем список по элементам line[1] и line[3]\n",
    "        print (compaing, visits )\n",
    "    \n",
    "    break"
   ]
  },
  {
   "cell_type": "code",
   "execution_count": 41,
   "metadata": {},
   "outputs": [
    {
     "name": "stdout",
     "output_type": "stream",
     "text": [
      "yandex 31421\n",
      "yandex 79634\n",
      "yandex 134438\n",
      "yandex 172860\n",
      "yandex 247709\n"
     ]
    }
   ],
   "source": [
    "for report in api_response['reports']: \n",
    "    visit_sum =0 # Вводим счётчик визитов\n",
    "    #pprint (report['data']['table']) # Выводим значения ключа 'table'\n",
    "    for line in report['data']['table']:\n",
    "        compaing = line[1]\n",
    "        visits = line [3]\n",
    "        \n",
    "        visit_sum +=visits #Cуммируем визиты\n",
    "        print (compaing, visit_sum )\n",
    "    \n",
    "    break"
   ]
  },
  {
   "cell_type": "code",
   "execution_count": 43,
   "metadata": {},
   "outputs": [
    {
     "name": "stdout",
     "output_type": "stream",
     "text": [
      "yandex 247709\n",
      "google 40601\n"
     ]
    }
   ],
   "source": [
    "for report in api_response['reports']: \n",
    "    visit_sum =0 # Вводим счётчик визитов\n",
    "    #pprint (report['data']['table']) # Выводим значения ключа 'table'\n",
    "    for line in report['data']['table']:\n",
    "        compaing = line[1]\n",
    "        visits = line [3]\n",
    "        \n",
    "        visit_sum +=visits #Cуммируем визиты\n",
    "    print (compaing, visit_sum )\n",
    "    \n",
    "    #Убираем break, чтобы запустить весь цикл"
   ]
  },
  {
   "cell_type": "code",
   "execution_count": 44,
   "metadata": {},
   "outputs": [
    {
     "name": "stdout",
     "output_type": "stream",
     "text": [
      "yandex performance 247709\n",
      "google performance 40601\n"
     ]
    }
   ],
   "source": [
    "for report in api_response['reports']:\n",
    "    campaign_name = report['name']\n",
    "    \n",
    "    sum_ = 0\n",
    "    for line in report['data']['table']:\n",
    "        sum_ += line[3]\n",
    "    \n",
    "    print(campaign_name, sum_)"
   ]
  },
  {
   "cell_type": "code",
   "execution_count": null,
   "metadata": {},
   "outputs": [],
   "source": []
  }
 ],
 "metadata": {
  "kernelspec": {
   "display_name": "Python 3 (ipykernel)",
   "language": "python",
   "name": "python3"
  },
  "language_info": {
   "codemirror_mode": {
    "name": "ipython",
    "version": 3
   },
   "file_extension": ".py",
   "mimetype": "text/x-python",
   "name": "python",
   "nbconvert_exporter": "python",
   "pygments_lexer": "ipython3",
   "version": "3.9.13"
  }
 },
 "nbformat": 4,
 "nbformat_minor": 2
}
