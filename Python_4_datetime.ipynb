{
 "cells": [
  {
   "cell_type": "markdown",
   "metadata": {},
   "source": [
    "# Полезности про функции"
   ]
  },
  {
   "cell_type": "markdown",
   "metadata": {},
   "source": [
    "Зачем они нужны\n",
    "1. Позволяют не раздувать код основного цикла\n",
    "2. Удобно тестируются вручную или с помощью pytest\n",
    "3. Можно добавлять новые требования, условия, заводить их в другие функции\n",
    "4. Если функций слишком много, то выносим их в отдельный файл. Импортируем с помощью import"
   ]
  },
  {
   "cell_type": "code",
   "execution_count": 1,
   "metadata": {},
   "outputs": [],
   "source": [
    "# значение параметра по умолчанию\n",
    "def speed_limit_exceeded(current_speed, speed_limit=90):\n",
    "    \"\"\"Проверка превышена ли разрешенная скорость движения за городом\"\"\"\n",
    "    \n",
    "    return current_speed > speed_limit"
   ]
  },
  {
   "cell_type": "code",
   "execution_count": 2,
   "metadata": {},
   "outputs": [
    {
     "data": {
      "text/plain": [
       "True"
      ]
     },
     "execution_count": 2,
     "metadata": {},
     "output_type": "execute_result"
    }
   ],
   "source": [
    "# проверка за городом (не трасса)\n",
    "\n",
    "speed_limit_exceeded(current_speed=105)"
   ]
  },
  {
   "cell_type": "code",
   "execution_count": 3,
   "metadata": {},
   "outputs": [
    {
     "data": {
      "text/plain": [
       "False"
      ]
     },
     "execution_count": 3,
     "metadata": {},
     "output_type": "execute_result"
    }
   ],
   "source": [
    "# проверка для скоростной трассы\n",
    "\n",
    "speed_limit_exceeded(current_speed=105, speed_limit=110)"
   ]
  },
  {
   "cell_type": "markdown",
   "metadata": {},
   "source": [
    "# Вспомним работу с файлами"
   ]
  },
  {
   "cell_type": "markdown",
   "metadata": {},
   "source": [
    "Дан лог покупок transactions.tsv.\n",
    "\n",
    "Первый столбец - дата покупки, второй - сумма. Разделитель табуляция.\n",
    "\n",
    "Необходимо посчитать:\n",
    "\n",
    "1. Сумму покупок за все дни\n",
    "\n",
    "2. Среднюю стоимость одной покупки\n",
    "\n",
    "3. В какой день была максимальная выручка?"
   ]
  },
  {
   "cell_type": "code",
   "execution_count": 41,
   "metadata": {},
   "outputs": [
    {
     "name": "stdout",
     "output_type": "stream",
     "text": [
      "2019-01-01 78\n",
      "2019-01-01 7\n",
      "2019-01-01 67\n",
      "2019-01-01 45\n",
      "2019-01-01 26\n",
      "2019-01-01 3\n",
      "2019-01-01 18\n",
      "2019-01-01 84\n",
      "2019-01-01 46\n",
      "2019-01-02 15\n",
      "2019-01-02 67\n",
      "2019-01-02 12\n",
      "2019-01-02 18\n",
      "2019-01-02 92\n",
      "2019-01-02 38\n",
      "2019-01-02 51\n",
      "2019-01-02 52\n",
      "2019-01-02 12\n",
      "2019-01-03 59\n",
      "2019-01-03 53\n",
      "2019-01-03 52\n",
      "2019-01-03 12\n",
      "2019-01-03 56\n",
      "2019-01-03 38\n",
      "2019-01-03 81\n",
      "2019-01-03 6\n",
      "2019-01-03 35\n",
      "2019-01-04 67\n",
      "2019-01-04 63\n",
      "2019-01-04 92\n",
      "2019-01-04 34\n",
      "2019-01-04 14\n",
      "2019-01-04 85\n",
      "2019-01-04 51\n",
      "2019-01-04 81\n",
      "2019-01-04 50\n",
      "2019-01-05 11\n",
      "2019-01-05 97\n",
      "2019-01-05 84\n",
      "2019-01-05 69\n",
      "2019-01-05 93\n",
      "2019-01-05 31\n",
      "2019-01-05 4\n",
      "2019-01-05 8\n",
      "2019-01-05 43\n",
      "2019-01-06 93\n",
      "2019-01-06 94\n",
      "2019-01-06 93\n",
      "2019-01-06 58\n",
      "2019-01-06 55\n",
      "2019-01-06 96\n",
      "2019-01-06 13\n",
      "2019-01-06 3\n",
      "2019-01-06 72\n",
      "2019-01-07 37\n",
      "2019-01-07 78\n",
      "2019-01-07 27\n",
      "2019-01-07 11\n",
      "2019-01-07 85\n",
      "2019-01-07 16\n",
      "2019-01-07 13\n",
      "2019-01-07 10\n",
      "2019-01-07 34\n",
      "Общая сумма покупок:2988 руб., Средний чек:47.43руб\n"
     ]
    }
   ],
   "source": [
    "total_sum = 0\n",
    "number_of_amount=0\n",
    "shopping_list = {}\n",
    "\n",
    "with open('transactions.tsv', 'r') as f:\n",
    "    for line in f:\n",
    "        #date, amount \n",
    "        date, amount= line.strip().split('\\t')\n",
    "        \n",
    "        if date in shopping_list:\n",
    "            shopping_list[date] +=int(amount)\n",
    "        else:\n",
    "            shopping_list[date] =int(amount)\n",
    "        #shopping_list.setdefault =(date, 0) # объявляем ключ с нулевым значением в списке shoping_list\n",
    "        #shopping_list[date] += int(amount)\n",
    "        \n",
    "        number_of_amount+=1\n",
    "        print(date, amount)\n",
    "      \n",
    "        \n",
    "        total_sum += int(amount)\n",
    "        average_check=total_sum/number_of_amount\n",
    "print('Общая сумма покупок:{} руб., Средний чек:{:.2f}руб'.format(total_sum, average_check))"
   ]
  },
  {
   "cell_type": "code",
   "execution_count": 40,
   "metadata": {},
   "outputs": [
    {
     "data": {
      "text/plain": [
       "{'2019-01-01': 374,\n",
       " '2019-01-02': 357,\n",
       " '2019-01-03': 392,\n",
       " '2019-01-04': 537,\n",
       " '2019-01-05': 440,\n",
       " '2019-01-06': 577,\n",
       " '2019-01-07': 311}"
      ]
     },
     "execution_count": 40,
     "metadata": {},
     "output_type": "execute_result"
    }
   ],
   "source": [
    "shopping_list"
   ]
  },
  {
   "cell_type": "code",
   "execution_count": 45,
   "metadata": {},
   "outputs": [
    {
     "data": {
      "text/plain": [
       "'2019-01-06'"
      ]
     },
     "execution_count": 45,
     "metadata": {},
     "output_type": "execute_result"
    }
   ],
   "source": [
    "sorted(shopping_list.items(),  key = lambda x: -x[1])[0][0] #сортировка через lambda"
   ]
  },
  {
   "cell_type": "code",
   "execution_count": 46,
   "metadata": {},
   "outputs": [
    {
     "data": {
      "text/plain": [
       "47.42857142857143"
      ]
     },
     "execution_count": 46,
     "metadata": {},
     "output_type": "execute_result"
    }
   ],
   "source": [
    "average_check"
   ]
  },
  {
   "cell_type": "markdown",
   "metadata": {},
   "source": [
    "# Даты"
   ]
  },
  {
   "cell_type": "code",
   "execution_count": 11,
   "metadata": {},
   "outputs": [],
   "source": [
    "import datetime"
   ]
  },
  {
   "cell_type": "code",
   "execution_count": 12,
   "metadata": {},
   "outputs": [],
   "source": [
    "from datetime import datetime"
   ]
  },
  {
   "cell_type": "code",
   "execution_count": 13,
   "metadata": {},
   "outputs": [],
   "source": [
    "date_string = '09.05.2018  09:00'"
   ]
  },
  {
   "cell_type": "code",
   "execution_count": 14,
   "metadata": {},
   "outputs": [
    {
     "data": {
      "text/plain": [
       "str"
      ]
     },
     "execution_count": 14,
     "metadata": {},
     "output_type": "execute_result"
    }
   ],
   "source": [
    "# сейчас date_string это просто строка\n",
    "type(date_string)"
   ]
  },
  {
   "cell_type": "code",
   "execution_count": 15,
   "metadata": {},
   "outputs": [
    {
     "data": {
      "text/plain": [
       "datetime.datetime(2018, 5, 9, 9, 0)"
      ]
     },
     "execution_count": 15,
     "metadata": {},
     "output_type": "execute_result"
    }
   ],
   "source": [
    "# https://docs.python.org/3/library/datetime.html\n",
    "date_datetime = datetime.strptime( date_string, '%d.%m.%Y %H:%M' )\n",
    "date_datetime"
   ]
  },
  {
   "cell_type": "code",
   "execution_count": 16,
   "metadata": {},
   "outputs": [
    {
     "data": {
      "text/plain": [
       "datetime.datetime"
      ]
     },
     "execution_count": 16,
     "metadata": {},
     "output_type": "execute_result"
    }
   ],
   "source": [
    "# теперь можем работать с датами\n",
    "type(date_datetime)"
   ]
  },
  {
   "cell_type": "code",
   "execution_count": 17,
   "metadata": {},
   "outputs": [
    {
     "data": {
      "text/plain": [
       "(2018, 9)"
      ]
     },
     "execution_count": 17,
     "metadata": {},
     "output_type": "execute_result"
    }
   ],
   "source": [
    "date_datetime.year, date_datetime.hour"
   ]
  },
  {
   "cell_type": "markdown",
   "metadata": {},
   "source": [
    "### Упражнение\n",
    "С помощью метода datetime.strptime переведите строку 'May 25 2017 5:00AM' в формат datetime."
   ]
  },
  {
   "cell_type": "code",
   "execution_count": 18,
   "metadata": {},
   "outputs": [],
   "source": [
    "date_string_1 = 'May 25 2017 5:00AM'"
   ]
  },
  {
   "cell_type": "code",
   "execution_count": 19,
   "metadata": {},
   "outputs": [
    {
     "data": {
      "text/plain": [
       "datetime.datetime(2017, 5, 25, 5, 0)"
      ]
     },
     "execution_count": 19,
     "metadata": {},
     "output_type": "execute_result"
    }
   ],
   "source": [
    "date_datetime_1 = datetime.strptime( date_string_1, '%B %d %Y %I:%M%p' )\n",
    "date_datetime_1"
   ]
  },
  {
   "cell_type": "markdown",
   "metadata": {},
   "source": [
    "## Текущее время "
   ]
  },
  {
   "cell_type": "code",
   "execution_count": 20,
   "metadata": {},
   "outputs": [
    {
     "data": {
      "text/plain": [
       "datetime.datetime(2023, 4, 11, 17, 32, 27, 209043)"
      ]
     },
     "execution_count": 20,
     "metadata": {},
     "output_type": "execute_result"
    }
   ],
   "source": [
    "datetime.now()\n"
   ]
  },
  {
   "cell_type": "code",
   "execution_count": 21,
   "metadata": {},
   "outputs": [
    {
     "data": {
      "text/plain": [
       "datetime.datetime(2023, 4, 11, 17, 32, 28, 253043)"
      ]
     },
     "execution_count": 21,
     "metadata": {},
     "output_type": "execute_result"
    }
   ],
   "source": [
    "datetime.today()"
   ]
  },
  {
   "cell_type": "markdown",
   "metadata": {},
   "source": [
    "### Прибавление интервала к датам"
   ]
  },
  {
   "cell_type": "code",
   "execution_count": 22,
   "metadata": {},
   "outputs": [],
   "source": [
    "from datetime import timedelta"
   ]
  },
  {
   "cell_type": "code",
   "execution_count": 23,
   "metadata": {},
   "outputs": [],
   "source": [
    "start_date = '2018-01-01'\n",
    "end_date = '2018-01-07'"
   ]
  },
  {
   "cell_type": "code",
   "execution_count": 24,
   "metadata": {},
   "outputs": [
    {
     "data": {
      "text/plain": [
       "str"
      ]
     },
     "execution_count": 24,
     "metadata": {},
     "output_type": "execute_result"
    }
   ],
   "source": [
    "type(start_date)"
   ]
  },
  {
   "cell_type": "code",
   "execution_count": 25,
   "metadata": {},
   "outputs": [
    {
     "data": {
      "text/plain": [
       "datetime.datetime(2018, 1, 1, 0, 0)"
      ]
     },
     "execution_count": 25,
     "metadata": {},
     "output_type": "execute_result"
    }
   ],
   "source": [
    "start_date_datetime = datetime.strptime(start_date, '%Y-%m-%d')\n",
    "start_date_datetime"
   ]
  },
  {
   "cell_type": "code",
   "execution_count": 26,
   "metadata": {},
   "outputs": [
    {
     "data": {
      "text/plain": [
       "datetime.datetime(2018, 1, 2, 0, 0)"
      ]
     },
     "execution_count": 26,
     "metadata": {},
     "output_type": "execute_result"
    }
   ],
   "source": [
    "start_date_datetime + timedelta(days=1)"
   ]
  },
  {
   "cell_type": "code",
   "execution_count": 27,
   "metadata": {},
   "outputs": [
    {
     "data": {
      "text/plain": [
       "datetime.datetime(2018, 1, 7, 23, 59)"
      ]
     },
     "execution_count": 27,
     "metadata": {},
     "output_type": "execute_result"
    }
   ],
   "source": [
    "start_date_datetime  - timedelta(days=-7, minutes=1)"
   ]
  },
  {
   "cell_type": "code",
   "execution_count": 28,
   "metadata": {},
   "outputs": [
    {
     "data": {
      "text/plain": [
       "0"
      ]
     },
     "execution_count": 28,
     "metadata": {},
     "output_type": "execute_result"
    }
   ],
   "source": [
    "start_date_datetime.weekday()"
   ]
  },
  {
   "cell_type": "markdown",
   "metadata": {},
   "source": [
    "### Упражнение\n",
    "Дана дата в формате '2018-09-01T09:30:00'. Прибавьте к ней 12 часов 15минут и 3 секунды."
   ]
  },
  {
   "cell_type": "code",
   "execution_count": 29,
   "metadata": {},
   "outputs": [],
   "source": [
    "data_task='2018-09-01T09:30:00'"
   ]
  },
  {
   "cell_type": "code",
   "execution_count": 30,
   "metadata": {},
   "outputs": [
    {
     "data": {
      "text/plain": [
       "datetime.datetime(2018, 9, 1, 21, 45, 3)"
      ]
     },
     "execution_count": 30,
     "metadata": {},
     "output_type": "execute_result"
    }
   ],
   "source": [
    "data_task_datetime = datetime.strptime(data_task, '%Y-%m-%dT%H:%M:%S')\n",
    "data_task_datetime + timedelta(days=0, hours=12, minutes=15, seconds=3)"
   ]
  },
  {
   "cell_type": "code",
   "execution_count": 31,
   "metadata": {},
   "outputs": [
    {
     "data": {
      "text/plain": [
       "datetime.datetime(2018, 9, 1, 9, 30)"
      ]
     },
     "execution_count": 31,
     "metadata": {},
     "output_type": "execute_result"
    }
   ],
   "source": [
    "data_task_datetime "
   ]
  },
  {
   "cell_type": "markdown",
   "metadata": {},
   "source": [
    "### Перевод обратно в строку"
   ]
  },
  {
   "cell_type": "code",
   "execution_count": 32,
   "metadata": {},
   "outputs": [
    {
     "data": {
      "text/plain": [
       "datetime.datetime(2018, 9, 1, 0, 0)"
      ]
     },
     "execution_count": 32,
     "metadata": {},
     "output_type": "execute_result"
    }
   ],
   "source": [
    "date = datetime(2018, 9, 1)\n",
    "date"
   ]
  },
  {
   "cell_type": "code",
   "execution_count": 33,
   "metadata": {},
   "outputs": [
    {
     "data": {
      "text/plain": [
       "'2018-09-01'"
      ]
     },
     "execution_count": 33,
     "metadata": {},
     "output_type": "execute_result"
    }
   ],
   "source": [
    "date.strftime('%Y-%m-%d')"
   ]
  },
  {
   "cell_type": "code",
   "execution_count": 34,
   "metadata": {
    "scrolled": true
   },
   "outputs": [
    {
     "data": {
      "text/plain": [
       "'September 01 2018 12:00AM'"
      ]
     },
     "execution_count": 34,
     "metadata": {},
     "output_type": "execute_result"
    }
   ],
   "source": [
    "date.strftime('%B %d %Y %I:%M%p')"
   ]
  },
  {
   "cell_type": "code",
   "execution_count": 35,
   "metadata": {},
   "outputs": [
    {
     "data": {
      "text/plain": [
       "'2018-09-01'"
      ]
     },
     "execution_count": 35,
     "metadata": {},
     "output_type": "execute_result"
    }
   ],
   "source": [
    "# внезапно\n",
    "\n",
    "date.strftime('%Y-%m-01')"
   ]
  },
  {
   "cell_type": "code",
   "execution_count": 36,
   "metadata": {},
   "outputs": [
    {
     "data": {
      "text/plain": [
       "('2018-01-01', '2018-01-07')"
      ]
     },
     "execution_count": 36,
     "metadata": {},
     "output_type": "execute_result"
    }
   ],
   "source": [
    "start_date, end_date"
   ]
  },
  {
   "cell_type": "code",
   "execution_count": 37,
   "metadata": {},
   "outputs": [
    {
     "name": "stdout",
     "output_type": "stream",
     "text": [
      "2018-01-01 00:00:00 2018-01-07 00:00:00\n"
     ]
    }
   ],
   "source": [
    "start_date_dt = datetime.strptime(start_date, '%Y-%m-%d')\n",
    "end_date_dt = datetime.strptime(end_date, '%Y-%m-%d')\n",
    "\n",
    "print(start_date_dt, end_date_dt)"
   ]
  },
  {
   "cell_type": "code",
   "execution_count": 38,
   "metadata": {},
   "outputs": [
    {
     "name": "stdout",
     "output_type": "stream",
     "text": [
      "1\n",
      "2\n",
      "3\n",
      "4\n",
      "5\n",
      "6\n",
      "7\n",
      "8\n",
      "9\n",
      "10\n"
     ]
    }
   ],
   "source": [
    "i = 0\n",
    "\n",
    "while i < 10:\n",
    "    # ...\n",
    "    i += 1\n",
    "    print(i)"
   ]
  },
  {
   "cell_type": "code",
   "execution_count": 39,
   "metadata": {},
   "outputs": [
    {
     "name": "stdout",
     "output_type": "stream",
     "text": [
      "2018-01-01\n",
      "2018-01-02\n",
      "2018-01-03\n",
      "2018-01-04\n",
      "2018-01-05\n",
      "2018-01-06\n",
      "2018-01-07\n"
     ]
    }
   ],
   "source": [
    "current_dt = start_date_dt\n",
    "\n",
    "while current_dt <= end_date_dt:\n",
    "    print(current_dt.strftime('%Y-%m-%d'))\n",
    "    \n",
    "    current_dt += timedelta(days=1)"
   ]
  },
  {
   "cell_type": "markdown",
   "metadata": {},
   "source": [
    "### Упражнение\n",
    "Напишите алгоритм, который \"пробегает\" период 1 до 7 сентября по часам. Формат вывода '06.01.2018 23:00:00'."
   ]
  },
  {
   "cell_type": "code",
   "execution_count": 6,
   "metadata": {},
   "outputs": [
    {
     "name": "stdout",
     "output_type": "stream",
     "text": [
      "2018-09-01 00:00:00 2018-09-07 23:59:59\n"
     ]
    }
   ],
   "source": [
    "from datetime import datetime \n",
    "start_date = '01.09.2018 00:00:00'\n",
    "end_date = '07.09.2018 23:59:59'\n",
    "start_date_dt = datetime.strptime(start_date, '%d.%m.%Y %H:%M:%S')\n",
    "end_date_dt = datetime.strptime(end_date, '%d.%m.%Y %H:%M:%S')\n",
    "\n",
    "print(start_date_dt, end_date_dt)"
   ]
  },
  {
   "cell_type": "code",
   "execution_count": 7,
   "metadata": {},
   "outputs": [
    {
     "name": "stdout",
     "output_type": "stream",
     "text": [
      "01.09.2018 00:00:00\n",
      "01.09.2018 01:00:00\n",
      "01.09.2018 02:00:00\n",
      "01.09.2018 03:00:00\n",
      "01.09.2018 04:00:00\n",
      "01.09.2018 05:00:00\n",
      "01.09.2018 06:00:00\n",
      "01.09.2018 07:00:00\n",
      "01.09.2018 08:00:00\n",
      "01.09.2018 09:00:00\n",
      "01.09.2018 10:00:00\n",
      "01.09.2018 11:00:00\n",
      "01.09.2018 12:00:00\n",
      "01.09.2018 13:00:00\n",
      "01.09.2018 14:00:00\n",
      "01.09.2018 15:00:00\n",
      "01.09.2018 16:00:00\n",
      "01.09.2018 17:00:00\n",
      "01.09.2018 18:00:00\n",
      "01.09.2018 19:00:00\n",
      "01.09.2018 20:00:00\n",
      "01.09.2018 21:00:00\n",
      "01.09.2018 22:00:00\n",
      "01.09.2018 23:00:00\n",
      "02.09.2018 00:00:00\n",
      "02.09.2018 01:00:00\n",
      "02.09.2018 02:00:00\n",
      "02.09.2018 03:00:00\n",
      "02.09.2018 04:00:00\n",
      "02.09.2018 05:00:00\n",
      "02.09.2018 06:00:00\n",
      "02.09.2018 07:00:00\n",
      "02.09.2018 08:00:00\n",
      "02.09.2018 09:00:00\n",
      "02.09.2018 10:00:00\n",
      "02.09.2018 11:00:00\n",
      "02.09.2018 12:00:00\n",
      "02.09.2018 13:00:00\n",
      "02.09.2018 14:00:00\n",
      "02.09.2018 15:00:00\n",
      "02.09.2018 16:00:00\n",
      "02.09.2018 17:00:00\n",
      "02.09.2018 18:00:00\n",
      "02.09.2018 19:00:00\n",
      "02.09.2018 20:00:00\n",
      "02.09.2018 21:00:00\n",
      "02.09.2018 22:00:00\n",
      "02.09.2018 23:00:00\n",
      "03.09.2018 00:00:00\n",
      "03.09.2018 01:00:00\n",
      "03.09.2018 02:00:00\n",
      "03.09.2018 03:00:00\n",
      "03.09.2018 04:00:00\n",
      "03.09.2018 05:00:00\n",
      "03.09.2018 06:00:00\n",
      "03.09.2018 07:00:00\n",
      "03.09.2018 08:00:00\n",
      "03.09.2018 09:00:00\n",
      "03.09.2018 10:00:00\n",
      "03.09.2018 11:00:00\n",
      "03.09.2018 12:00:00\n",
      "03.09.2018 13:00:00\n",
      "03.09.2018 14:00:00\n",
      "03.09.2018 15:00:00\n",
      "03.09.2018 16:00:00\n",
      "03.09.2018 17:00:00\n",
      "03.09.2018 18:00:00\n",
      "03.09.2018 19:00:00\n",
      "03.09.2018 20:00:00\n",
      "03.09.2018 21:00:00\n",
      "03.09.2018 22:00:00\n",
      "03.09.2018 23:00:00\n",
      "04.09.2018 00:00:00\n",
      "04.09.2018 01:00:00\n",
      "04.09.2018 02:00:00\n",
      "04.09.2018 03:00:00\n",
      "04.09.2018 04:00:00\n",
      "04.09.2018 05:00:00\n",
      "04.09.2018 06:00:00\n",
      "04.09.2018 07:00:00\n",
      "04.09.2018 08:00:00\n",
      "04.09.2018 09:00:00\n",
      "04.09.2018 10:00:00\n",
      "04.09.2018 11:00:00\n",
      "04.09.2018 12:00:00\n",
      "04.09.2018 13:00:00\n",
      "04.09.2018 14:00:00\n",
      "04.09.2018 15:00:00\n",
      "04.09.2018 16:00:00\n",
      "04.09.2018 17:00:00\n",
      "04.09.2018 18:00:00\n",
      "04.09.2018 19:00:00\n",
      "04.09.2018 20:00:00\n",
      "04.09.2018 21:00:00\n",
      "04.09.2018 22:00:00\n",
      "04.09.2018 23:00:00\n",
      "05.09.2018 00:00:00\n",
      "05.09.2018 01:00:00\n",
      "05.09.2018 02:00:00\n",
      "05.09.2018 03:00:00\n",
      "05.09.2018 04:00:00\n",
      "05.09.2018 05:00:00\n",
      "05.09.2018 06:00:00\n",
      "05.09.2018 07:00:00\n",
      "05.09.2018 08:00:00\n",
      "05.09.2018 09:00:00\n",
      "05.09.2018 10:00:00\n",
      "05.09.2018 11:00:00\n",
      "05.09.2018 12:00:00\n",
      "05.09.2018 13:00:00\n",
      "05.09.2018 14:00:00\n",
      "05.09.2018 15:00:00\n",
      "05.09.2018 16:00:00\n",
      "05.09.2018 17:00:00\n",
      "05.09.2018 18:00:00\n",
      "05.09.2018 19:00:00\n",
      "05.09.2018 20:00:00\n",
      "05.09.2018 21:00:00\n",
      "05.09.2018 22:00:00\n",
      "05.09.2018 23:00:00\n",
      "06.09.2018 00:00:00\n",
      "06.09.2018 01:00:00\n",
      "06.09.2018 02:00:00\n",
      "06.09.2018 03:00:00\n",
      "06.09.2018 04:00:00\n",
      "06.09.2018 05:00:00\n",
      "06.09.2018 06:00:00\n",
      "06.09.2018 07:00:00\n",
      "06.09.2018 08:00:00\n",
      "06.09.2018 09:00:00\n",
      "06.09.2018 10:00:00\n",
      "06.09.2018 11:00:00\n",
      "06.09.2018 12:00:00\n",
      "06.09.2018 13:00:00\n",
      "06.09.2018 14:00:00\n",
      "06.09.2018 15:00:00\n",
      "06.09.2018 16:00:00\n",
      "06.09.2018 17:00:00\n",
      "06.09.2018 18:00:00\n",
      "06.09.2018 19:00:00\n",
      "06.09.2018 20:00:00\n",
      "06.09.2018 21:00:00\n",
      "06.09.2018 22:00:00\n",
      "06.09.2018 23:00:00\n",
      "07.09.2018 00:00:00\n",
      "07.09.2018 01:00:00\n",
      "07.09.2018 02:00:00\n",
      "07.09.2018 03:00:00\n",
      "07.09.2018 04:00:00\n",
      "07.09.2018 05:00:00\n",
      "07.09.2018 06:00:00\n",
      "07.09.2018 07:00:00\n",
      "07.09.2018 08:00:00\n",
      "07.09.2018 09:00:00\n",
      "07.09.2018 10:00:00\n",
      "07.09.2018 11:00:00\n",
      "07.09.2018 12:00:00\n",
      "07.09.2018 13:00:00\n",
      "07.09.2018 14:00:00\n",
      "07.09.2018 15:00:00\n",
      "07.09.2018 16:00:00\n",
      "07.09.2018 17:00:00\n",
      "07.09.2018 18:00:00\n",
      "07.09.2018 19:00:00\n",
      "07.09.2018 20:00:00\n",
      "07.09.2018 21:00:00\n",
      "07.09.2018 22:00:00\n",
      "07.09.2018 23:00:00\n"
     ]
    }
   ],
   "source": [
    "from datetime import timedelta\n",
    "current_dt = start_date_dt\n",
    "while current_dt<=end_date_dt:\n",
    "    print(current_dt.strftime('%d.%m.%Y %H:%M:%S'))\n",
    "    current_dt+=timedelta(hours=1)"
   ]
  },
  {
   "cell_type": "code",
   "execution_count": null,
   "metadata": {},
   "outputs": [],
   "source": []
  },
  {
   "cell_type": "markdown",
   "metadata": {},
   "source": [
    "### Нагрузка на систему по часам"
   ]
  },
  {
   "cell_type": "code",
   "execution_count": 10,
   "metadata": {},
   "outputs": [
    {
     "name": "stdout",
     "output_type": "stream",
     "text": [
      "2018-04-30T21:37:41Z\n",
      "2018-04-30 21:37:41\n"
     ]
    },
    {
     "data": {
      "text/plain": [
       "{}"
      ]
     },
     "execution_count": 10,
     "metadata": {},
     "output_type": "execute_result"
    }
   ],
   "source": [
    "stats = {}\n",
    "\n",
    "with open('logs.csv', 'r') as f:\n",
    "    for line in f:\n",
    "        line = line.strip()\n",
    "        print(line)\n",
    "        \n",
    "        dt = datetime.strptime(line, '%Y-%m-%dT%H:%M:%SZ')\n",
    "        dt.hour\n",
    "        print(dt)\n",
    "        break\n",
    "        \n",
    "        # вычисления нагрузки на систему...\n",
    "        \n",
    "# результат\n",
    "stats"
   ]
  },
  {
   "cell_type": "code",
   "execution_count": 9,
   "metadata": {},
   "outputs": [
    {
     "data": {
      "text/plain": [
       "'21'"
      ]
     },
     "execution_count": 9,
     "metadata": {},
     "output_type": "execute_result"
    }
   ],
   "source": [
    "line='2018-04-30T21:37:41Z'\n",
    "line[11:13] #Выделяем часы из строки"
   ]
  },
  {
   "cell_type": "code",
   "execution_count": null,
   "metadata": {},
   "outputs": [],
   "source": [
    "# а в процентном соотношении?\n"
   ]
  },
  {
   "cell_type": "code",
   "execution_count": null,
   "metadata": {},
   "outputs": [],
   "source": []
  },
  {
   "cell_type": "code",
   "execution_count": null,
   "metadata": {},
   "outputs": [],
   "source": []
  },
  {
   "cell_type": "markdown",
   "metadata": {},
   "source": [
    "###  Unixtime\n",
    "Количество секунд, прошедших с 1 января 1970 года по UTC"
   ]
  },
  {
   "cell_type": "code",
   "execution_count": 11,
   "metadata": {},
   "outputs": [],
   "source": [
    "import time\n",
    "from datetime import date\n",
    "from datetime import datetime"
   ]
  },
  {
   "cell_type": "code",
   "execution_count": 22,
   "metadata": {},
   "outputs": [
    {
     "data": {
      "text/plain": [
       "1681239600.0"
      ]
     },
     "execution_count": 22,
     "metadata": {},
     "output_type": "execute_result"
    }
   ],
   "source": [
    "d = date(2023, 4, 12)\n",
    "\n",
    "unixtime = time.mktime(d.timetuple())\n",
    "unixtime"
   ]
  },
  {
   "cell_type": "code",
   "execution_count": 23,
   "metadata": {},
   "outputs": [],
   "source": [
    "from datetime import datetime"
   ]
  },
  {
   "cell_type": "code",
   "execution_count": 24,
   "metadata": {},
   "outputs": [
    {
     "data": {
      "text/plain": [
       "datetime.datetime(2019, 3, 11, 2, 0)"
      ]
     },
     "execution_count": 24,
     "metadata": {},
     "output_type": "execute_result"
    }
   ],
   "source": [
    "datetime.fromtimestamp(1552251600)"
   ]
  },
  {
   "cell_type": "markdown",
   "metadata": {},
   "source": [
    "На практике все сложнее https://habr.com/ru/post/452584/"
   ]
  },
  {
   "cell_type": "markdown",
   "metadata": {},
   "source": [
    "# Обработка ошибок"
   ]
  },
  {
   "cell_type": "code",
   "execution_count": 15,
   "metadata": {},
   "outputs": [],
   "source": [
    "some_num = '123'"
   ]
  },
  {
   "cell_type": "code",
   "execution_count": 16,
   "metadata": {},
   "outputs": [
    {
     "data": {
      "text/plain": [
       "123.0"
      ]
     },
     "execution_count": 16,
     "metadata": {},
     "output_type": "execute_result"
    }
   ],
   "source": [
    "float(some_num)"
   ]
  },
  {
   "cell_type": "code",
   "execution_count": 17,
   "metadata": {},
   "outputs": [],
   "source": [
    "ups = '123a'"
   ]
  },
  {
   "cell_type": "code",
   "execution_count": 18,
   "metadata": {
    "scrolled": true
   },
   "outputs": [
    {
     "ename": "ValueError",
     "evalue": "could not convert string to float: '123a'",
     "output_type": "error",
     "traceback": [
      "\u001b[1;31m---------------------------------------------------------------------------\u001b[0m",
      "\u001b[1;31mValueError\u001b[0m                                Traceback (most recent call last)",
      "\u001b[1;32m~\\AppData\\Local\\Temp\\ipykernel_10352\\3144042886.py\u001b[0m in \u001b[0;36m<module>\u001b[1;34m\u001b[0m\n\u001b[1;32m----> 1\u001b[1;33m \u001b[0mfloat\u001b[0m\u001b[1;33m(\u001b[0m\u001b[0mups\u001b[0m\u001b[1;33m)\u001b[0m\u001b[1;33m\u001b[0m\u001b[1;33m\u001b[0m\u001b[0m\n\u001b[0m",
      "\u001b[1;31mValueError\u001b[0m: could not convert string to float: '123a'"
     ]
    }
   ],
   "source": [
    "float(ups)"
   ]
  },
  {
   "cell_type": "code",
   "execution_count": 19,
   "metadata": {},
   "outputs": [
    {
     "name": "stdout",
     "output_type": "stream",
     "text": [
      "could not convert string to float: '123a'\n",
      "Проехали\n"
     ]
    }
   ],
   "source": [
    "try:\n",
    "    float(ups)\n",
    "\n",
    "except Exception as e:\n",
    "    print(e)\n",
    "    \n",
    "print('Проехали')"
   ]
  },
  {
   "cell_type": "code",
   "execution_count": 20,
   "metadata": {},
   "outputs": [],
   "source": [
    "ups = '123fff'"
   ]
  },
  {
   "cell_type": "code",
   "execution_count": 21,
   "metadata": {},
   "outputs": [
    {
     "name": "stdout",
     "output_type": "stream",
     "text": [
      "None\n",
      "Проехали\n"
     ]
    },
    {
     "name": "stderr",
     "output_type": "stream",
     "text": [
      "Traceback (most recent call last):\n",
      "  File \"C:\\Users\\User\\AppData\\Local\\Temp\\ipykernel_10352\\159223317.py\", line 5, in <module>\n",
      "    float(ups)\n",
      "ValueError: could not convert string to float: '123fff'\n"
     ]
    }
   ],
   "source": [
    "# полная версия traceback\n",
    "import traceback\n",
    "\n",
    "try:\n",
    "    float(ups)\n",
    "\n",
    "except Exception:\n",
    "    print(traceback.print_exc())\n",
    "    \n",
    "print('Проехали')"
   ]
  },
  {
   "cell_type": "markdown",
   "metadata": {},
   "source": [
    "### Более жизненный пример"
   ]
  },
  {
   "cell_type": "code",
   "execution_count": null,
   "metadata": {},
   "outputs": [],
   "source": [
    "with open('real_data.txt', 'r') as f:\n",
    "    for line in f:\n",
    "        print(line.strip())"
   ]
  },
  {
   "cell_type": "code",
   "execution_count": null,
   "metadata": {},
   "outputs": [],
   "source": [
    "import logging"
   ]
  },
  {
   "cell_type": "markdown",
   "metadata": {},
   "source": [
    "Чем прекрасен этот файл:\n",
    "1. Даты имеют разный формат: за 8 и 9 октября формат с \"09.10.2016 21:40\" сменился на \"09.10.2016T 21:40:00\" (добавилась буква T и секунды). Разработчики объяснили этот тем, что сбились настройки в базе данных.\n",
    "2. У покупок некоторых пользователей неизвестно значение выручки, из-за чего количество столбцов в строке уменьшается на один.\n",
    "3. У некоторых строк реальная сумма покупки умножена на миллион. Так иногда действительно делают, чтобы избежать дробных чисел и работать только с целыми. Разработчикам просто так удобнее."
   ]
  },
  {
   "cell_type": "code",
   "execution_count": null,
   "metadata": {},
   "outputs": [],
   "source": [
    "def make_datetime_normal(dt):\n",
    "    \"\"\"Перевод даты покупки в формат %Y-%m-%d\"\"\"\n",
    "    \n",
    "    date_datetime = datetime.strptime(dt, '%d.%m.%y %H:%M')\n",
    "    return date_datetime.strftime('%Y-%m-%d')"
   ]
  },
  {
   "cell_type": "code",
   "execution_count": null,
   "metadata": {},
   "outputs": [],
   "source": [
    "make_datetime_normal('05.10.16 23:18')"
   ]
  },
  {
   "cell_type": "code",
   "execution_count": null,
   "metadata": {},
   "outputs": [],
   "source": [
    "make_datetime_normal('08.10.2016T 16:46:00')"
   ]
  },
  {
   "cell_type": "markdown",
   "metadata": {},
   "source": [
    "### Упражнение\n",
    "Создайте словарь stats = {'monday': 100, 'tuesday': 200}. \n",
    "\n",
    "Какой тип ошибки вызовет обращение stats['wednesday']?"
   ]
  },
  {
   "cell_type": "code",
   "execution_count": null,
   "metadata": {},
   "outputs": [],
   "source": []
  },
  {
   "cell_type": "code",
   "execution_count": null,
   "metadata": {},
   "outputs": [],
   "source": []
  },
  {
   "cell_type": "code",
   "execution_count": null,
   "metadata": {},
   "outputs": [],
   "source": []
  },
  {
   "cell_type": "code",
   "execution_count": null,
   "metadata": {},
   "outputs": [],
   "source": [
    "def make_datetime_normal(date_string):\n",
    "    \"\"\"Перевод даты покупки в формат %Y-%m-%d\"\"\"\n",
    "\n",
    "    try:\n",
    "        # пробуем расшифровать дату в формате '%d.%m.%Y %H:%M'\n",
    "        date_datetime = datetime.strptime(date_string, '%d.%m.%Y %H:%M')\n",
    "\n",
    "    except ValueError:\n",
    "\n",
    "        # пробуем расшифровать дату в формате '%d.%m.%YT %H:%M:%S'\n",
    "        try:\n",
    "            date_datetime = datetime.strptime(date_string, '%d.%m.%YT %H:%M:%S')\n",
    "\n",
    "        except:\n",
    "            print('Warning! bad line')\n",
    "            # ни один из известных форматов не подошел, возвращаем 'undefined'\n",
    "            return 'undefined'\n",
    "\n",
    "    return date_datetime.strftime('%Y-%m-%d')"
   ]
  },
  {
   "cell_type": "code",
   "execution_count": null,
   "metadata": {},
   "outputs": [],
   "source": [
    "make_datetime_normal('05.10.2016 23:18')"
   ]
  },
  {
   "cell_type": "code",
   "execution_count": null,
   "metadata": {},
   "outputs": [],
   "source": [
    "make_datetime_normal('08.10.2016T 16:46:00')"
   ]
  },
  {
   "cell_type": "code",
   "execution_count": null,
   "metadata": {},
   "outputs": [],
   "source": [
    "make_datetime_normal('08.10.2016T16:46:00Z')"
   ]
  },
  {
   "cell_type": "markdown",
   "metadata": {},
   "source": [
    "### Упражнение\n",
    "Посчитайте сумму третьего столбца с файле real_data.txt. Считайте, что если значение больше 1000, значит оно было умножено на миллион."
   ]
  },
  {
   "cell_type": "code",
   "execution_count": null,
   "metadata": {},
   "outputs": [],
   "source": []
  },
  {
   "cell_type": "code",
   "execution_count": null,
   "metadata": {},
   "outputs": [],
   "source": []
  },
  {
   "cell_type": "code",
   "execution_count": null,
   "metadata": {},
   "outputs": [],
   "source": []
  },
  {
   "cell_type": "markdown",
   "metadata": {},
   "source": [
    "# YAML-формат\n",
    "Неочевидные приемы https://habr.com/post/270097/"
   ]
  },
  {
   "cell_type": "code",
   "execution_count": null,
   "metadata": {},
   "outputs": [],
   "source": [
    "!pip install pyyaml"
   ]
  },
  {
   "cell_type": "code",
   "execution_count": null,
   "metadata": {},
   "outputs": [],
   "source": [
    "from yaml import load"
   ]
  },
  {
   "cell_type": "code",
   "execution_count": null,
   "metadata": {},
   "outputs": [],
   "source": [
    "config = load( open('config.yaml') )\n",
    "config"
   ]
  },
  {
   "cell_type": "code",
   "execution_count": null,
   "metadata": {},
   "outputs": [],
   "source": [
    "config['cities']"
   ]
  },
  {
   "cell_type": "code",
   "execution_count": null,
   "metadata": {},
   "outputs": [],
   "source": [
    "config['accounts']['vk']['password']"
   ]
  },
  {
   "cell_type": "code",
   "execution_count": null,
   "metadata": {},
   "outputs": [],
   "source": [
    "config['cities']"
   ]
  },
  {
   "cell_type": "code",
   "execution_count": null,
   "metadata": {},
   "outputs": [],
   "source": [
    "list_of_cities = config['cities']\n",
    "list_of_cities"
   ]
  },
  {
   "cell_type": "code",
   "execution_count": null,
   "metadata": {},
   "outputs": [],
   "source": [
    "config['accounts']"
   ]
  },
  {
   "cell_type": "code",
   "execution_count": null,
   "metadata": {},
   "outputs": [],
   "source": [
    "vk_username = config['accounts']['vk']['username']\n",
    "vk_username"
   ]
  },
  {
   "cell_type": "code",
   "execution_count": null,
   "metadata": {},
   "outputs": [],
   "source": [
    "for city in config['cities']:\n",
    "    print(city)"
   ]
  },
  {
   "cell_type": "markdown",
   "metadata": {},
   "source": [
    "### Упражнение\n",
    "Вам необходимо написать YAML-файл с параметрами для выгрузки данных. Как бы вы организовали такой файл?\n",
    "\n",
    "1. Выгрузка происходит из нескольких систем (vk, mytarget, dbm).\n",
    "\n",
    "2. У каждой системы есть несколько аккаунтов (account1, account2, ...). \n",
    "\n",
    "3. Для выгрузки данных из каждого аккаунта есть своя пара ключей приложения client_id и client_secret.\n",
    "\n",
    "4. Также у каждого аккаунта есть набор клиентов (client1, client2, ...), у каждого из которых есть свой логин и refresh_token."
   ]
  },
  {
   "cell_type": "code",
   "execution_count": null,
   "metadata": {},
   "outputs": [],
   "source": []
  }
 ],
 "metadata": {
  "kernelspec": {
   "display_name": "Python 3 (ipykernel)",
   "language": "python",
   "name": "python3"
  },
  "language_info": {
   "codemirror_mode": {
    "name": "ipython",
    "version": 3
   },
   "file_extension": ".py",
   "mimetype": "text/x-python",
   "name": "python",
   "nbconvert_exporter": "python",
   "pygments_lexer": "ipython3",
   "version": "3.9.13"
  }
 },
 "nbformat": 4,
 "nbformat_minor": 2
}
