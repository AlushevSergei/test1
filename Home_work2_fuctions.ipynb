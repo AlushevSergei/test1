{
 "cells": [
  {
   "cell_type": "markdown",
   "id": "7310ad78",
   "metadata": {},
   "source": [
    "  # Задача 1 (Из двух решений)"
   ]
  },
  {
   "cell_type": "code",
   "execution_count": 53,
   "id": "90cd6bdd",
   "metadata": {
    "scrolled": true
   },
   "outputs": [
    {
     "data": {
      "text/plain": [
       "32"
      ]
     },
     "execution_count": 53,
     "metadata": {},
     "output_type": "execute_result"
    }
   ],
   "source": [
    "#Дан список вида:\n",
    "data = [\n",
    "[13, 25, 23, 34],\n",
    "[45, 32, 44, 47],\n",
    "[12, 33, 23, 95],\n",
    "[13, 53, 34, 35],\n",
    "]\n",
    "data [1][1]\n",
    "\n",
    "#Напишите функцию, которая возвращает сумму элементов на диагонали. Т. е. 13+32+23+35.\n"
   ]
  },
  {
   "cell_type": "markdown",
   "id": "34a1db35",
   "metadata": {},
   "source": [
    "### Решение 1"
   ]
  },
  {
   "cell_type": "code",
   "execution_count": 63,
   "id": "7409c653",
   "metadata": {},
   "outputs": [],
   "source": [
    "def counting_sum_el (data):\n",
    "    sum_el_diag = data[0][0]+data[1][1]+data[2][2]+data[3][3]\n",
    "    return (sum_el_diag)\n",
    "\n",
    "counting_sum_el(data)"
   ]
  },
  {
   "cell_type": "markdown",
   "id": "c9214625",
   "metadata": {},
   "source": [
    "### Решение 2"
   ]
  },
  {
   "cell_type": "code",
   "execution_count": 67,
   "id": "02dc1b90",
   "metadata": {},
   "outputs": [
    {
     "name": "stdout",
     "output_type": "stream",
     "text": [
      "Сумма чисел по диагонали: 103\n"
     ]
    }
   ],
   "source": [
    "def couting_sum_el2(data):\n",
    "    i=0\n",
    "    summ=0\n",
    "    for el in data:\n",
    "        el = data [i][i]\n",
    "        summ += el\n",
    "        i+=1\n",
    "        print (summ)\n",
    "    return print('Сумма чисел по диагонали: {}'.format(summ))\n",
    "couting_sum_el2(data)\n"
   ]
  },
  {
   "cell_type": "markdown",
   "id": "d9c7b5d2",
   "metadata": {},
   "source": [
    "# Задание 2\n",
    "Дан список чисел, часть из которых имеют строковый тип или содержат буквы. Напишите функцию, которая возвращает сумму квадратов элементов, которые могут быть числами.\n",
    "data = [1, ‘5’, ‘abc’, 20, ‘2’]\n",
    "\n"
   ]
  },
  {
   "cell_type": "code",
   "execution_count": 150,
   "id": "61614031",
   "metadata": {},
   "outputs": [
    {
     "data": {
      "text/plain": [
       "'Сумма числовых элементов: 45'"
      ]
     },
     "execution_count": 150,
     "metadata": {},
     "output_type": "execute_result"
    }
   ],
   "source": [
    "data1 = [1, 20, '12', '5', '5', '2']\n",
    "def count_summ_el(data1):\n",
    "    summ = 0\n",
    "    for el in data1:\n",
    "        if type(el) == int:\n",
    "            summ +=el\n",
    "        if type(el) ==str:\n",
    "            el=int(el)\n",
    "            summ +=el\n",
    "        if type(el)==str:\n",
    "            print(el)\n",
    "            \n",
    "    return ('Сумма числовых элементов: {}'.format(summ))\n",
    "    \n",
    "count_summ_el(data1)"
   ]
  },
  {
   "cell_type": "code",
   "execution_count": 164,
   "id": "b3c8c238",
   "metadata": {},
   "outputs": [
    {
     "data": {
      "text/plain": [
       "'Сумма числовых элементов: 51'"
      ]
     },
     "execution_count": 164,
     "metadata": {},
     "output_type": "execute_result"
    }
   ],
   "source": [
    "#Вариант 2\n",
    "\n",
    "test_list = ['1', '20', '17', '5', '5', '3', 'abk']\n",
    "\n",
    "test_str = 'abcdfighijklmnpqrstuvwxyz'\n",
    "\n",
    "res =[]\n",
    "'''\n",
    "Фильтрация списка test_list на предмет\n",
    "наличия недопустимых символов типа 'abc'\n",
    "которые нельзя сложить\n",
    "'''\n",
    "for sub in test_list:\n",
    "    flag=0\n",
    "    for element in sub:\n",
    "        if element in test_str:\n",
    "            flag=1\n",
    "    if not flag:\n",
    "        res.append(sub)\n",
    "\n",
    "def count_summ_el(res):\n",
    "    summ = 0\n",
    "    for el in res:\n",
    "        if type(el) == int:\n",
    "            summ +=el\n",
    "        if type(el) ==str:\n",
    "            el=int(el)\n",
    "            summ +=el\n",
    "            \n",
    "    return ('Сумма числовых элементов: {}'.format(summ))\n",
    "    \n",
    "count_summ_el(res)"
   ]
  },
  {
   "cell_type": "code",
   "execution_count": 95,
   "id": "97e5a5b9",
   "metadata": {},
   "outputs": [
    {
     "name": "stdout",
     "output_type": "stream",
     "text": [
      "[1, '5', 'abc', 20, '2']\n"
     ]
    }
   ],
   "source": [
    "data1 = [1, '5', 'abc', 20, '2']\n",
    "print (data1)"
   ]
  },
  {
   "cell_type": "code",
   "execution_count": null,
   "id": "eaaa3c7a",
   "metadata": {},
   "outputs": [],
   "source": []
  },
  {
   "cell_type": "markdown",
   "id": "823c52e0",
   "metadata": {},
   "source": [
    "# Задание 3\n",
    "Напишите функцию, которая возвращает название валюты (поле ‘Name’) с максимальным значением курса с помощью сервиса https://www.cbr-xml-daily.ru/daily_json.js\n",
    "\n"
   ]
  },
  {
   "cell_type": "code",
   "execution_count": null,
   "id": "75a20d09",
   "metadata": {},
   "outputs": [],
   "source": []
  },
  {
   "cell_type": "code",
   "execution_count": null,
   "id": "05bb65d0",
   "metadata": {},
   "outputs": [],
   "source": []
  },
  {
   "cell_type": "markdown",
   "id": "c0d66f5b",
   "metadata": {},
   "source": [
    "# Задание 4\n",
    "Последнее упражнение с занятия\n",
    "\n",
    "    Добавьте в класс еще один формат, который возвращает название валюты (например, ‘Евро’).\n",
    "\n",
    "    Добавьте в класс параметр diff (со значениями True или False), который в случае значения True в методах eur и usd будет возвращать не курс валюты, а изменение по сравнению в прошлым значением.\n",
    "\n"
   ]
  },
  {
   "cell_type": "markdown",
   "id": "e7a34db3",
   "metadata": {},
   "source": [
    "# Задание 5\n",
    "Напишите функцию, возвращающую сумму первых n чисел Фибоначчи"
   ]
  },
  {
   "cell_type": "code",
   "execution_count": null,
   "id": "69c059fb",
   "metadata": {},
   "outputs": [],
   "source": []
  }
 ],
 "metadata": {
  "kernelspec": {
   "display_name": "Python 3 (ipykernel)",
   "language": "python",
   "name": "python3"
  },
  "language_info": {
   "codemirror_mode": {
    "name": "ipython",
    "version": 3
   },
   "file_extension": ".py",
   "mimetype": "text/x-python",
   "name": "python",
   "nbconvert_exporter": "python",
   "pygments_lexer": "ipython3",
   "version": "3.9.13"
  }
 },
 "nbformat": 4,
 "nbformat_minor": 5
}
